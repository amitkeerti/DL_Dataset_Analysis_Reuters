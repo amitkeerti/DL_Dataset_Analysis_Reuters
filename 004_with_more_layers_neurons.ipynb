{
 "cells": [
  {
   "cell_type": "code",
   "execution_count": 1,
   "metadata": {},
   "outputs": [],
   "source": [
    "import tensorflow as tf\n",
    "import numpy as np"
   ]
  },
  {
   "cell_type": "code",
   "execution_count": 2,
   "metadata": {},
   "outputs": [
    {
     "name": "stderr",
     "output_type": "stream",
     "text": [
      "Using TensorFlow backend.\n"
     ]
    }
   ],
   "source": [
    "from keras.datasets import reuters"
   ]
  },
  {
   "cell_type": "code",
   "execution_count": 3,
   "metadata": {},
   "outputs": [
    {
     "name": "stdout",
     "output_type": "stream",
     "text": [
      "[1, 2, 2, 8, 43, 10, 447, 5, 25, 207, 270, 5, 3095, 111, 16, 369, 186, 90, 67, 7, 89, 5, 19, 102, 6, 19, 124, 15, 90, 67, 84, 22, 482, 26, 7, 48, 4, 49, 8, 864, 39, 209, 154, 6, 151, 6, 83, 11, 15, 22, 155, 11, 15, 7, 48, 9, 4579, 1005, 504, 6, 258, 6, 272, 11, 15, 22, 134, 44, 11, 15, 16, 8, 197, 1245, 90, 67, 52, 29, 209, 30, 32, 132, 6, 109, 15, 17, 12]\n",
      "8982\n",
      "2246\n"
     ]
    }
   ],
   "source": [
    "#(train_data, train_labels), (test_data, test_labels) = reuters.load_data(num_words=10000)\n",
    "\n",
    "#The above line of code does not seem to be working. So I had to do the below code to load the Reuters data.\n",
    "\n",
    "# save np.load\n",
    "np_load_old = np.load\n",
    "\n",
    "# modify the default parameters of np.load\n",
    "np.load = lambda *a,**k: np_load_old(*a, allow_pickle=True, **k)\n",
    "\n",
    "# call load_data with allow_pickle implicitly set to true\n",
    "(train_X, train_Y), (test_X, test_Y) = reuters.load_data(num_words=10000)\n",
    "\n",
    "# restore np.load for future normal usage\n",
    "np.load = np_load_old\n",
    "\n",
    "print(train_X[0])\n",
    "\n",
    "print(len(train_X))\n",
    "print(len(test_Y))"
   ]
  },
  {
   "cell_type": "code",
   "execution_count": 4,
   "metadata": {},
   "outputs": [],
   "source": [
    "#Each review (row) is of different size. This data needs to be made uniform. \n",
    "# i.e. each reviuew (i.e. row) needs to be onehotencoded to a length of 10,000 (we have decided to have only 10000 features)\n",
    "import numpy as np\n",
    "from keras.utils.np_utils import to_categorical\n",
    "\n",
    "def OneHotEncoding_fn(ReutersData, dimension=10000):\n",
    "    # 8982 x 10k matrix of zeros\n",
    "    OneHotEncoded_Data = np.zeros((len(ReutersData), dimension))\n",
    "    for i, sequence in enumerate(ReutersData):\n",
    "        #Selectively make indices as 1 based on availability of word in the review.\n",
    "        OneHotEncoded_Data[i, sequence] = 1.\n",
    "    return OneHotEncoded_Data\n",
    "\n",
    "x_train = OneHotEncoding_fn(train_X)\n",
    "x_test = OneHotEncoding_fn(test_X)\n",
    "\n",
    "y_train = to_categorical(train_Y)\n",
    "y_test = to_categorical(test_Y)\n"
   ]
  },
  {
   "cell_type": "code",
   "execution_count": 5,
   "metadata": {},
   "outputs": [
    {
     "name": "stdout",
     "output_type": "stream",
     "text": [
      "WARNING:tensorflow:From C:\\ProgramData\\Anaconda3\\envs\\tensorflow_env\\lib\\site-packages\\tensorflow\\python\\ops\\control_flow_ops.py:423: colocate_with (from tensorflow.python.framework.ops) is deprecated and will be removed in a future version.\n",
      "Instructions for updating:\n",
      "Colocations handled automatically by placer.\n",
      "WARNING:tensorflow:From C:\\ProgramData\\Anaconda3\\envs\\tensorflow_env\\lib\\site-packages\\keras\\backend\\tensorflow_backend.py:3445: calling dropout (from tensorflow.python.ops.nn_ops) with keep_prob is deprecated and will be removed in a future version.\n",
      "Instructions for updating:\n",
      "Please use `rate` instead of `keep_prob`. Rate should be set to `rate = 1 - keep_prob`.\n"
     ]
    }
   ],
   "source": [
    "#create the layers\n",
    "from keras import models\n",
    "from keras import layers\n",
    "from keras import regularizers\n",
    "\n",
    "model = models.Sequential()\n",
    "\n",
    "#I/P Layer\n",
    "model.add(layers.Dropout(0.65, input_shape=(10000,)))\n",
    "#model.add(layers.Dense(64, activation='relu'))\n",
    "model.add(layers.Dense(128, activation='relu'))       #I/P Layer with 128 Neurons\n",
    "#model.add(layers.Dense(256, activation='relu'))       #I/P Layer with 256 Neurons\n",
    "#model.add(layers.Dense(128, input_shape=(10000,), kernel_regularizer=regularizers.l1_l2(l1=0.001, l2=0.01), activation='relu'))\n",
    "\n",
    "#1st hidden layer\n",
    "model.add(layers.Dropout(0.65))\n",
    "#model.add(layers.Dense(64, activation='relu'))\n",
    "model.add(layers.Dense(128, activation='relu'))        #Hidden Layer with 128 Neurons\n",
    "#model.add(layers.Dense(256, activation='relu'))        #Hidden Layer with 256 Neurons\n",
    "#model.add(layers.Dense(128, kernel_regularizer=regularizers.l1_l2(l1=0.01, l2=0.001), activation='relu'))\n",
    "\n",
    "#Adding 2nd hidden layer\n",
    "#model.add(layers.Dropout(0.65))\n",
    "#model.add(layers.Dense(64, activation='relu'))\n",
    "#model.add(layers.Dense(128, activation='relu'))       #2nd Hidden Layer with 128 Neurons\n",
    "#model.add(layers.Dense(64, kernel_regularizer=regularizers.l1_l2(l1=0.01, l2=0.01), activation='relu'))\n",
    "\n",
    "#Adding 3rd hidden layer\n",
    "#model.add(layers.Dropout(0.5))\n",
    "#model.add(layers.Dense(64, activation='relu'))\n",
    "\n",
    "#model.add(layers.Dropout(0.4))\n",
    "model.add(layers.Dense(46, activation='softmax'))"
   ]
  },
  {
   "cell_type": "code",
   "execution_count": 6,
   "metadata": {},
   "outputs": [
    {
     "name": "stdout",
     "output_type": "stream",
     "text": [
      "WARNING:tensorflow:From C:\\ProgramData\\Anaconda3\\envs\\tensorflow_env\\lib\\site-packages\\tensorflow\\python\\ops\\math_ops.py:3066: to_int32 (from tensorflow.python.ops.math_ops) is deprecated and will be removed in a future version.\n",
      "Instructions for updating:\n",
      "Use tf.cast instead.\n",
      "Train on 8182 samples, validate on 800 samples\n",
      "Epoch 1/25\n",
      "8182/8182 [==============================] - 5s 563us/step - loss: 2.6429 - categorical_accuracy: 0.4268 - val_loss: 1.7425 - val_categorical_accuracy: 0.5738\n",
      "Epoch 2/25\n",
      "8182/8182 [==============================] - 4s 530us/step - loss: 1.8416 - categorical_accuracy: 0.5703 - val_loss: 1.4842 - val_categorical_accuracy: 0.6662\n",
      "Epoch 3/25\n",
      "8182/8182 [==============================] - 4s 513us/step - loss: 1.6433 - categorical_accuracy: 0.6188 - val_loss: 1.3370 - val_categorical_accuracy: 0.6925\n",
      "Epoch 4/25\n",
      "8182/8182 [==============================] - 4s 436us/step - loss: 1.5265 - categorical_accuracy: 0.6496 - val_loss: 1.2375 - val_categorical_accuracy: 0.7150\n",
      "Epoch 5/25\n",
      "8182/8182 [==============================] - 3s 403us/step - loss: 1.4335 - categorical_accuracy: 0.6641 - val_loss: 1.1742 - val_categorical_accuracy: 0.7312\n",
      "Epoch 6/25\n",
      "8182/8182 [==============================] - 3s 409us/step - loss: 1.3522 - categorical_accuracy: 0.6808 - val_loss: 1.1170 - val_categorical_accuracy: 0.7475\n",
      "Epoch 7/25\n",
      "8182/8182 [==============================] - 3s 410us/step - loss: 1.2863 - categorical_accuracy: 0.6948 - val_loss: 1.0820 - val_categorical_accuracy: 0.7550\n",
      "Epoch 8/25\n",
      "8182/8182 [==============================] - 3s 390us/step - loss: 1.2275 - categorical_accuracy: 0.7117 - val_loss: 1.0344 - val_categorical_accuracy: 0.7813\n",
      "Epoch 9/25\n",
      "8182/8182 [==============================] - 3s 400us/step - loss: 1.1855 - categorical_accuracy: 0.7199 - val_loss: 0.9996 - val_categorical_accuracy: 0.7825\n",
      "Epoch 10/25\n",
      "8182/8182 [==============================] - 3s 406us/step - loss: 1.1286 - categorical_accuracy: 0.7331 - val_loss: 0.9719 - val_categorical_accuracy: 0.7988\n",
      "Epoch 11/25\n",
      "8182/8182 [==============================] - 3s 396us/step - loss: 1.0983 - categorical_accuracy: 0.7376 - val_loss: 0.9530 - val_categorical_accuracy: 0.8038\n",
      "Epoch 12/25\n",
      "8182/8182 [==============================] - 3s 400us/step - loss: 1.0626 - categorical_accuracy: 0.7470 - val_loss: 0.9431 - val_categorical_accuracy: 0.8062\n",
      "Epoch 13/25\n",
      "8182/8182 [==============================] - 3s 402us/step - loss: 1.0158 - categorical_accuracy: 0.7540 - val_loss: 0.9209 - val_categorical_accuracy: 0.8087\n",
      "Epoch 14/25\n",
      "8182/8182 [==============================] - 3s 401us/step - loss: 0.9946 - categorical_accuracy: 0.7552 - val_loss: 0.9062 - val_categorical_accuracy: 0.8062\n",
      "Epoch 15/25\n",
      "8182/8182 [==============================] - 3s 397us/step - loss: 0.9592 - categorical_accuracy: 0.7712 - val_loss: 0.9017 - val_categorical_accuracy: 0.8137\n",
      "Epoch 16/25\n",
      "8182/8182 [==============================] - 3s 413us/step - loss: 0.9380 - categorical_accuracy: 0.7678 - val_loss: 0.8908 - val_categorical_accuracy: 0.8037\n",
      "Epoch 17/25\n",
      "8182/8182 [==============================] - 3s 401us/step - loss: 0.9010 - categorical_accuracy: 0.7811 - val_loss: 0.8826 - val_categorical_accuracy: 0.8112\n",
      "Epoch 18/25\n",
      "8182/8182 [==============================] - 3s 405us/step - loss: 0.9034 - categorical_accuracy: 0.7837 - val_loss: 0.8817 - val_categorical_accuracy: 0.8100\n",
      "Epoch 19/25\n",
      "8182/8182 [==============================] - 3s 395us/step - loss: 0.8717 - categorical_accuracy: 0.7878 - val_loss: 0.8689 - val_categorical_accuracy: 0.8175\n",
      "Epoch 20/25\n",
      "8182/8182 [==============================] - 3s 388us/step - loss: 0.8577 - categorical_accuracy: 0.7910 - val_loss: 0.8678 - val_categorical_accuracy: 0.8175\n",
      "Epoch 21/25\n",
      "8182/8182 [==============================] - 3s 387us/step - loss: 0.8337 - categorical_accuracy: 0.7931 - val_loss: 0.8726 - val_categorical_accuracy: 0.8100\n",
      "Epoch 22/25\n",
      "8182/8182 [==============================] - 3s 379us/step - loss: 0.8226 - categorical_accuracy: 0.7975 - val_loss: 0.8473 - val_categorical_accuracy: 0.8213\n",
      "Epoch 23/25\n",
      "8182/8182 [==============================] - 3s 382us/step - loss: 0.7995 - categorical_accuracy: 0.7981 - val_loss: 0.8413 - val_categorical_accuracy: 0.8225\n",
      "Epoch 24/25\n",
      "8182/8182 [==============================] - 3s 387us/step - loss: 0.7887 - categorical_accuracy: 0.8066 - val_loss: 0.8540 - val_categorical_accuracy: 0.8213\n",
      "Epoch 25/25\n",
      "8182/8182 [==============================] - 3s 387us/step - loss: 0.7750 - categorical_accuracy: 0.8092 - val_loss: 0.8425 - val_categorical_accuracy: 0.8225\n"
     ]
    }
   ],
   "source": [
    "from keras import optimizers\n",
    "from keras import losses\n",
    "from keras import metrics\n",
    "\n",
    "X_validation = x_train[:800]\n",
    "X_train_without_val = x_train[800:]\n",
    "y_validation = y_train[:800]\n",
    "y_train_without_val = y_train[800:]\n",
    "\n",
    "\n",
    "model.compile(optimizer=optimizers.RMSprop(lr=0.001, rho=0.9),\n",
    "             loss=losses.categorical_crossentropy,\n",
    "             metrics=[metrics.categorical_accuracy])\n",
    "                           \n",
    "history = model.fit(X_train_without_val,\n",
    "                    y_train_without_val,\n",
    "                    epochs=25,\n",
    "                    batch_size=512,\n",
    "                    validation_data=(X_validation,y_validation))\n"
   ]
  },
  {
   "cell_type": "code",
   "execution_count": 9,
   "metadata": {},
   "outputs": [
    {
     "data": {
      "image/png": "[encoded data removed]",
      "text/plain": [
       "<Figure size 432x288 with 1 Axes>"
      ]
     },
     "metadata": {
      "needs_background": "light"
     },
     "output_type": "display_data"
    }
   ],
   "source": [
    "import matplotlib.pyplot as plt\n",
    "\n",
    "history_dict = history.history\n",
    "loss_values = history_dict['loss']\n",
    "val_loss_values = history_dict['val_loss']\n",
    "\n",
    "epochs = range(1, len(loss_values) + 1)\n",
    "\n",
    "plt.plot(epochs, loss_values, 'g--', label='Training loss')\n",
    "plt.plot(epochs, val_loss_values, 'r', label='Validation loss')\n",
    "plt.title('Training and validation loss')\n",
    "plt.xlabel('Epochs')\n",
    "plt.ylabel('Loss')\n",
    "plt.legend()\n",
    "\n",
    "plt.show()\n"
   ]
  },
  {
   "cell_type": "code",
   "execution_count": 8,
   "metadata": {},
   "outputs": [
    {
     "data": {
      "image/png": "[encoded data removed]",
      "text/plain": [
       "<Figure size 432x288 with 1 Axes>"
      ]
     },
     "metadata": {
      "needs_background": "light"
     },
     "output_type": "display_data"
    }
   ],
   "source": [
    "plt.clf()\n",
    "acc_values = history_dict['categorical_accuracy']\n",
    "val_acc_values = history_dict['val_categorical_accuracy']\n",
    "plt.plot(epochs, acc_values, 'g--', label='Training Accuracy')\n",
    "plt.plot(epochs, val_acc_values, 'r', label='Validation Accuracy')\n",
    "plt.title('Training and validation accuracy')\n",
    "plt.xlabel('Epochs')\n",
    "plt.ylabel('Accuracy')\n",
    "plt.legend()\n",
    "plt.show()"
   ]
  },
  {
   "cell_type": "code",
   "execution_count": null,
   "metadata": {},
   "outputs": [],
   "source": []
  }
 ],
 "metadata": {
  "kernelspec": {
   "display_name": "Python 3",
   "language": "python",
   "name": "python3"
  },
  "language_info": {
   "codemirror_mode": {
    "name": "ipython",
    "version": 3
   },
   "file_extension": ".py",
   "mimetype": "text/x-python",
   "name": "python",
   "nbconvert_exporter": "python",
   "pygments_lexer": "ipython3",
   "version": "3.7.3"
  }
 },
 "nbformat": 4,
 "nbformat_minor": 2
}
