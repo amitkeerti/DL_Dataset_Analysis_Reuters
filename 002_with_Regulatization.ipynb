{
 "cells": [
  {
   "cell_type": "code",
   "execution_count": 1,
   "metadata": {},
   "outputs": [],
   "source": [
    "import tensorflow as tf\n",
    "import numpy as np"
   ]
  },
  {
   "cell_type": "code",
   "execution_count": 2,
   "metadata": {},
   "outputs": [
    {
     "name": "stderr",
     "output_type": "stream",
     "text": [
      "Using TensorFlow backend.\n"
     ]
    }
   ],
   "source": [
    "from keras.datasets import reuters"
   ]
  },
  {
   "cell_type": "code",
   "execution_count": 3,
   "metadata": {},
   "outputs": [
    {
     "name": "stdout",
     "output_type": "stream",
     "text": [
      "[1, 2, 2, 8, 43, 10, 447, 5, 25, 207, 270, 5, 3095, 111, 16, 369, 186, 90, 67, 7, 89, 5, 19, 102, 6, 19, 124, 15, 90, 67, 84, 22, 482, 26, 7, 48, 4, 49, 8, 864, 39, 209, 154, 6, 151, 6, 83, 11, 15, 22, 155, 11, 15, 7, 48, 9, 4579, 1005, 504, 6, 258, 6, 272, 11, 15, 22, 134, 44, 11, 15, 16, 8, 197, 1245, 90, 67, 52, 29, 209, 30, 32, 132, 6, 109, 15, 17, 12]\n",
      "8982\n",
      "2246\n"
     ]
    }
   ],
   "source": [
    "#(train_data, train_labels), (test_data, test_labels) = reuters.load_data(num_words=10000)\n",
    "\n",
    "#The above line of code does not seem to be working. So I had to do the below code to load the Reuters data.\n",
    "\n",
    "# save np.load\n",
    "np_load_old = np.load\n",
    "\n",
    "# modify the default parameters of np.load\n",
    "np.load = lambda *a,**k: np_load_old(*a, allow_pickle=True, **k)\n",
    "\n",
    "# call load_data with allow_pickle implicitly set to true\n",
    "(train_X, train_Y), (test_X, test_Y) = reuters.load_data(num_words=10000)\n",
    "\n",
    "# restore np.load for future normal usage\n",
    "np.load = np_load_old\n",
    "\n",
    "print(train_X[0])\n",
    "\n",
    "print(len(train_X))\n",
    "print(len(test_Y))"
   ]
  },
  {
   "cell_type": "code",
   "execution_count": 4,
   "metadata": {},
   "outputs": [],
   "source": [
    "#Each review (row) is of different size. This data needs to be made uniform. \n",
    "# i.e. each reviuew (i.e. row) needs to be onehotencoded to a length of 10,000 (we have decided to have only 10000 features)\n",
    "import numpy as np\n",
    "from keras.utils.np_utils import to_categorical\n",
    "\n",
    "def OneHotEncoding_fn(ReutersData, dimension=10000):\n",
    "    # 8982 x 10k matrix of zeros\n",
    "    OneHotEncoded_Data = np.zeros((len(ReutersData), dimension))\n",
    "    for i, sequence in enumerate(ReutersData):\n",
    "        #Selectively make indices as 1 based on availability of word in the review.\n",
    "        OneHotEncoded_Data[i, sequence] = 1.\n",
    "    return OneHotEncoded_Data\n",
    "\n",
    "x_train = OneHotEncoding_fn(train_X)\n",
    "x_test = OneHotEncoding_fn(test_X)\n",
    "\n",
    "y_train = to_categorical(train_Y)\n",
    "y_test = to_categorical(test_Y)\n"
   ]
  },
  {
   "cell_type": "code",
   "execution_count": 5,
   "metadata": {},
   "outputs": [
    {
     "name": "stdout",
     "output_type": "stream",
     "text": [
      "WARNING:tensorflow:From C:\\ProgramData\\Anaconda3\\envs\\tensorflow_env\\lib\\site-packages\\tensorflow\\python\\framework\\op_def_library.py:263: colocate_with (from tensorflow.python.framework.ops) is deprecated and will be removed in a future version.\n",
      "Instructions for updating:\n",
      "Colocations handled automatically by placer.\n"
     ]
    }
   ],
   "source": [
    "#create the layers\n",
    "from keras import models\n",
    "from keras import layers\n",
    "from keras import regularizers\n",
    "\n",
    "model = models.Sequential()\n",
    "#model.add(layers.Dense(64, activation='relu', input_shape=(10000,)))\n",
    "#model.add(layers.Dense(64, kernel_regularizer=regularizers.l1(0.001), activation='relu', input_shape=(10000,)))\n",
    "#model.add(layers.Dense(64, kernel_regularizer=regularizers.l2(0.01), activation='relu', input_shape=(10000,)))\n",
    "model.add(layers.Dense(64, kernel_regularizer=regularizers.l1_l2(l1=0.001, l2=0.01), activation='relu', input_shape=(10000,)))\n",
    "\n",
    "#model.add(layers.Dense(64, activation='relu'))\n",
    "#model.add(layers.Dense(64, kernel_regularizer=regularizers.l1(0.001), activation='relu'))\n",
    "#model.add(layers.Dense(64, kernel_regularizer=regularizers.l2(0.01), activation='relu'))\n",
    "model.add(layers.Dense(64, kernel_regularizer=regularizers.l1_l2(l1=0.001, l2=0.01), activation='relu'))\n",
    "\n",
    "model.add(layers.Dense(46, activation='softmax'))"
   ]
  },
  {
   "cell_type": "code",
   "execution_count": 6,
   "metadata": {},
   "outputs": [
    {
     "name": "stdout",
     "output_type": "stream",
     "text": [
      "WARNING:tensorflow:From C:\\ProgramData\\Anaconda3\\envs\\tensorflow_env\\lib\\site-packages\\tensorflow\\python\\ops\\math_ops.py:3066: to_int32 (from tensorflow.python.ops.math_ops) is deprecated and will be removed in a future version.\n",
      "Instructions for updating:\n",
      "Use tf.cast instead.\n",
      "Train on 8182 samples, validate on 800 samples\n",
      "Epoch 1/75\n",
      "8182/8182 [==============================] - 3s 349us/step - loss: 6.7368 - categorical_accuracy: 0.4452 - val_loss: 3.5555 - val_categorical_accuracy: 0.5463\n",
      "Epoch 2/75\n",
      "8182/8182 [==============================] - 2s 226us/step - loss: 3.3561 - categorical_accuracy: 0.5331 - val_loss: 3.1130 - val_categorical_accuracy: 0.5725\n",
      "Epoch 3/75\n",
      "8182/8182 [==============================] - 2s 240us/step - loss: 3.0471 - categorical_accuracy: 0.5821 - val_loss: 2.8979 - val_categorical_accuracy: 0.5812\n",
      "Epoch 4/75\n",
      "8182/8182 [==============================] - 2s 245us/step - loss: 2.8641 - categorical_accuracy: 0.6135 - val_loss: 2.7438 - val_categorical_accuracy: 0.6675\n",
      "Epoch 5/75\n",
      "8182/8182 [==============================] - 2s 277us/step - loss: 2.7155 - categorical_accuracy: 0.6507 - val_loss: 2.6231 - val_categorical_accuracy: 0.6650\n",
      "Epoch 6/75\n",
      "8182/8182 [==============================] - 2s 246us/step - loss: 2.6033 - categorical_accuracy: 0.6599 - val_loss: 2.5177 - val_categorical_accuracy: 0.6637\n",
      "Epoch 7/75\n",
      "8182/8182 [==============================] - 2s 263us/step - loss: 2.5004 - categorical_accuracy: 0.6699 - val_loss: 2.4166 - val_categorical_accuracy: 0.6800\n",
      "Epoch 8/75\n",
      "8182/8182 [==============================] - 2s 246us/step - loss: 2.4146 - categorical_accuracy: 0.6767 - val_loss: 2.3419 - val_categorical_accuracy: 0.6850\n",
      "Epoch 9/75\n",
      "8182/8182 [==============================] - 3s 316us/step - loss: 2.3466 - categorical_accuracy: 0.6831 - val_loss: 2.2666 - val_categorical_accuracy: 0.6912\n",
      "Epoch 10/75\n",
      "8182/8182 [==============================] - 2s 257us/step - loss: 2.2809 - categorical_accuracy: 0.6859 - val_loss: 2.2164 - val_categorical_accuracy: 0.6963\n",
      "Epoch 11/75\n",
      "8182/8182 [==============================] - 2s 252us/step - loss: 2.2269 - categorical_accuracy: 0.6890 - val_loss: 2.1968 - val_categorical_accuracy: 0.6913\n",
      "Epoch 12/75\n",
      "8182/8182 [==============================] - 2s 232us/step - loss: 2.1915 - categorical_accuracy: 0.6885 - val_loss: 2.1341 - val_categorical_accuracy: 0.6950\n",
      "Epoch 13/75\n",
      "8182/8182 [==============================] - 2s 234us/step - loss: 2.1461 - categorical_accuracy: 0.6916 - val_loss: 2.0978 - val_categorical_accuracy: 0.6963\n",
      "Epoch 14/75\n",
      "8182/8182 [==============================] - 2s 234us/step - loss: 2.1171 - categorical_accuracy: 0.6937 - val_loss: 2.0682 - val_categorical_accuracy: 0.7000\n",
      "Epoch 15/75\n",
      "8182/8182 [==============================] - 2s 234us/step - loss: 2.0964 - categorical_accuracy: 0.6935 - val_loss: 2.0493 - val_categorical_accuracy: 0.6988\n",
      "Epoch 16/75\n",
      "8182/8182 [==============================] - 2s 230us/step - loss: 2.0672 - categorical_accuracy: 0.6938 - val_loss: 2.0264 - val_categorical_accuracy: 0.7025\n",
      "Epoch 17/75\n",
      "8182/8182 [==============================] - 2s 251us/step - loss: 2.0419 - categorical_accuracy: 0.6978 - val_loss: 1.9985 - val_categorical_accuracy: 0.7000\n",
      "Epoch 18/75\n",
      "8182/8182 [==============================] - 2s 248us/step - loss: 2.0274 - categorical_accuracy: 0.6991 - val_loss: 1.9902 - val_categorical_accuracy: 0.7038\n",
      "Epoch 19/75\n",
      "8182/8182 [==============================] - 2s 229us/step - loss: 2.0055 - categorical_accuracy: 0.6995 - val_loss: 1.9850 - val_categorical_accuracy: 0.7038\n",
      "Epoch 20/75\n",
      "8182/8182 [==============================] - 2s 246us/step - loss: 1.9935 - categorical_accuracy: 0.7000 - val_loss: 1.9676 - val_categorical_accuracy: 0.7063\n",
      "Epoch 21/75\n",
      "8182/8182 [==============================] - 2s 230us/step - loss: 1.9770 - categorical_accuracy: 0.7001 - val_loss: 1.9778 - val_categorical_accuracy: 0.7025\n",
      "Epoch 22/75\n",
      "8182/8182 [==============================] - 2s 227us/step - loss: 1.9599 - categorical_accuracy: 0.7031 - val_loss: 1.9602 - val_categorical_accuracy: 0.7075\n",
      "Epoch 23/75\n",
      "8182/8182 [==============================] - 2s 230us/step - loss: 1.9464 - categorical_accuracy: 0.7058 - val_loss: 1.9213 - val_categorical_accuracy: 0.7050\n",
      "Epoch 24/75\n",
      "8182/8182 [==============================] - 2s 228us/step - loss: 1.9309 - categorical_accuracy: 0.7079 - val_loss: 1.9106 - val_categorical_accuracy: 0.7013\n",
      "Epoch 25/75\n",
      "8182/8182 [==============================] - 2s 252us/step - loss: 1.9169 - categorical_accuracy: 0.7102 - val_loss: 1.8893 - val_categorical_accuracy: 0.7113\n",
      "Epoch 26/75\n",
      "8182/8182 [==============================] - 2s 275us/step - loss: 1.9089 - categorical_accuracy: 0.7091 - val_loss: 1.8931 - val_categorical_accuracy: 0.7087\n",
      "Epoch 27/75\n",
      "8182/8182 [==============================] - 2s 267us/step - loss: 1.8929 - categorical_accuracy: 0.7117 - val_loss: 1.8809 - val_categorical_accuracy: 0.7162\n",
      "Epoch 28/75\n",
      "8182/8182 [==============================] - 2s 229us/step - loss: 1.8828 - categorical_accuracy: 0.7160 - val_loss: 1.8652 - val_categorical_accuracy: 0.7100\n",
      "Epoch 29/75\n",
      "8182/8182 [==============================] - 2s 249us/step - loss: 1.8688 - categorical_accuracy: 0.7161 - val_loss: 1.8673 - val_categorical_accuracy: 0.7087\n",
      "Epoch 30/75\n",
      "8182/8182 [==============================] - 2s 227us/step - loss: 1.8608 - categorical_accuracy: 0.7156 - val_loss: 1.8504 - val_categorical_accuracy: 0.7125\n",
      "Epoch 31/75\n",
      "8182/8182 [==============================] - 2s 251us/step - loss: 1.8499 - categorical_accuracy: 0.7199 - val_loss: 1.8371 - val_categorical_accuracy: 0.7225\n",
      "Epoch 32/75\n",
      "8182/8182 [==============================] - 2s 234us/step - loss: 1.8395 - categorical_accuracy: 0.7201 - val_loss: 1.8474 - val_categorical_accuracy: 0.7200\n",
      "Epoch 33/75\n",
      "8182/8182 [==============================] - 2s 247us/step - loss: 1.8324 - categorical_accuracy: 0.7207 - val_loss: 1.8249 - val_categorical_accuracy: 0.7125\n",
      "Epoch 34/75\n",
      "8182/8182 [==============================] - 2s 230us/step - loss: 1.8191 - categorical_accuracy: 0.7226 - val_loss: 1.8233 - val_categorical_accuracy: 0.7163\n",
      "Epoch 35/75\n",
      "8182/8182 [==============================] - 2s 266us/step - loss: 1.8136 - categorical_accuracy: 0.7223 - val_loss: 1.8154 - val_categorical_accuracy: 0.7237\n",
      "Epoch 36/75\n",
      "8182/8182 [==============================] - 2s 255us/step - loss: 1.7985 - categorical_accuracy: 0.7272 - val_loss: 1.8079 - val_categorical_accuracy: 0.7225\n",
      "Epoch 37/75\n",
      "8182/8182 [==============================] - 2s 239us/step - loss: 1.7967 - categorical_accuracy: 0.7283 - val_loss: 1.8168 - val_categorical_accuracy: 0.7213\n",
      "Epoch 38/75\n",
      "8182/8182 [==============================] - 2s 242us/step - loss: 1.7851 - categorical_accuracy: 0.7287 - val_loss: 1.7968 - val_categorical_accuracy: 0.7187\n",
      "Epoch 39/75\n",
      "8182/8182 [==============================] - 2s 231us/step - loss: 1.7752 - categorical_accuracy: 0.7317 - val_loss: 1.7901 - val_categorical_accuracy: 0.7250\n",
      "Epoch 40/75\n",
      "8182/8182 [==============================] - 2s 243us/step - loss: 1.7674 - categorical_accuracy: 0.7342 - val_loss: 1.7978 - val_categorical_accuracy: 0.7325\n",
      "Epoch 41/75\n",
      "8182/8182 [==============================] - 2s 237us/step - loss: 1.7623 - categorical_accuracy: 0.7341 - val_loss: 1.7821 - val_categorical_accuracy: 0.7250\n",
      "Epoch 42/75\n",
      "8182/8182 [==============================] - 2s 231us/step - loss: 1.7525 - categorical_accuracy: 0.7383 - val_loss: 1.7976 - val_categorical_accuracy: 0.7188\n",
      "Epoch 43/75\n",
      "8182/8182 [==============================] - 2s 239us/step - loss: 1.7456 - categorical_accuracy: 0.7371 - val_loss: 1.7718 - val_categorical_accuracy: 0.7225\n",
      "Epoch 44/75\n",
      "8182/8182 [==============================] - 2s 238us/step - loss: 1.7412 - categorical_accuracy: 0.7389 - val_loss: 1.7740 - val_categorical_accuracy: 0.7288\n",
      "Epoch 45/75\n",
      "8182/8182 [==============================] - 2s 227us/step - loss: 1.7292 - categorical_accuracy: 0.7421 - val_loss: 1.7641 - val_categorical_accuracy: 0.7425\n",
      "Epoch 46/75\n",
      "8182/8182 [==============================] - 2s 233us/step - loss: 1.7259 - categorical_accuracy: 0.7420 - val_loss: 1.7546 - val_categorical_accuracy: 0.7400\n",
      "Epoch 47/75\n"
     ]
    },
    {
     "name": "stdout",
     "output_type": "stream",
     "text": [
      "8182/8182 [==============================] - 2s 252us/step - loss: 1.7164 - categorical_accuracy: 0.7452 - val_loss: 1.7477 - val_categorical_accuracy: 0.7388\n",
      "Epoch 48/75\n",
      "8182/8182 [==============================] - 2s 230us/step - loss: 1.7115 - categorical_accuracy: 0.7479 - val_loss: 1.7598 - val_categorical_accuracy: 0.7387\n",
      "Epoch 49/75\n",
      "8182/8182 [==============================] - 2s 245us/step - loss: 1.7037 - categorical_accuracy: 0.7488 - val_loss: 1.7448 - val_categorical_accuracy: 0.7450\n",
      "Epoch 50/75\n",
      "8182/8182 [==============================] - 2s 223us/step - loss: 1.6983 - categorical_accuracy: 0.7523 - val_loss: 1.7417 - val_categorical_accuracy: 0.7438\n",
      "Epoch 51/75\n",
      "8182/8182 [==============================] - 2s 223us/step - loss: 1.6927 - categorical_accuracy: 0.7543 - val_loss: 1.7405 - val_categorical_accuracy: 0.7462\n",
      "Epoch 52/75\n",
      "8182/8182 [==============================] - 2s 229us/step - loss: 1.6823 - categorical_accuracy: 0.7569 - val_loss: 1.7486 - val_categorical_accuracy: 0.7462\n",
      "Epoch 53/75\n",
      "8182/8182 [==============================] - 2s 235us/step - loss: 1.6835 - categorical_accuracy: 0.7558 - val_loss: 1.7357 - val_categorical_accuracy: 0.7550\n",
      "Epoch 54/75\n",
      "8182/8182 [==============================] - 2s 260us/step - loss: 1.6744 - categorical_accuracy: 0.7600 - val_loss: 1.7267 - val_categorical_accuracy: 0.7512\n",
      "Epoch 55/75\n",
      "8182/8182 [==============================] - 2s 261us/step - loss: 1.6746 - categorical_accuracy: 0.7592 - val_loss: 1.7340 - val_categorical_accuracy: 0.7512\n",
      "Epoch 56/75\n",
      "8182/8182 [==============================] - 2s 263us/step - loss: 1.6658 - categorical_accuracy: 0.7633 - val_loss: 1.7303 - val_categorical_accuracy: 0.7587\n",
      "Epoch 57/75\n",
      "8182/8182 [==============================] - 2s 229us/step - loss: 1.6584 - categorical_accuracy: 0.7668 - val_loss: 1.7251 - val_categorical_accuracy: 0.7562\n",
      "Epoch 58/75\n",
      "8182/8182 [==============================] - 2s 231us/step - loss: 1.6578 - categorical_accuracy: 0.7646 - val_loss: 1.7327 - val_categorical_accuracy: 0.7575\n",
      "Epoch 59/75\n",
      "8182/8182 [==============================] - 2s 219us/step - loss: 1.6488 - categorical_accuracy: 0.7684 - val_loss: 1.7435 - val_categorical_accuracy: 0.7537\n",
      "Epoch 60/75\n",
      "8182/8182 [==============================] - 2s 229us/step - loss: 1.6439 - categorical_accuracy: 0.7716 - val_loss: 1.7199 - val_categorical_accuracy: 0.7600\n",
      "Epoch 61/75\n",
      "8182/8182 [==============================] - 2s 225us/step - loss: 1.6425 - categorical_accuracy: 0.7699 - val_loss: 1.7233 - val_categorical_accuracy: 0.7650\n",
      "Epoch 62/75\n",
      "8182/8182 [==============================] - 2s 236us/step - loss: 1.6386 - categorical_accuracy: 0.7699 - val_loss: 1.7162 - val_categorical_accuracy: 0.7563\n",
      "Epoch 63/75\n",
      "8182/8182 [==============================] - 2s 238us/step - loss: 1.6359 - categorical_accuracy: 0.7713 - val_loss: 1.7210 - val_categorical_accuracy: 0.7625\n",
      "Epoch 64/75\n",
      "8182/8182 [==============================] - 2s 219us/step - loss: 1.6284 - categorical_accuracy: 0.7758 - val_loss: 1.7160 - val_categorical_accuracy: 0.7587\n",
      "Epoch 65/75\n",
      "8182/8182 [==============================] - 2s 220us/step - loss: 1.6228 - categorical_accuracy: 0.7744 - val_loss: 1.7093 - val_categorical_accuracy: 0.7637\n",
      "Epoch 66/75\n",
      "8182/8182 [==============================] - 2s 220us/step - loss: 1.6198 - categorical_accuracy: 0.7779 - val_loss: 1.7063 - val_categorical_accuracy: 0.7663\n",
      "Epoch 67/75\n",
      "8182/8182 [==============================] - 2s 220us/step - loss: 1.6166 - categorical_accuracy: 0.7773 - val_loss: 1.7014 - val_categorical_accuracy: 0.7638\n",
      "Epoch 68/75\n",
      "8182/8182 [==============================] - 2s 218us/step - loss: 1.6122 - categorical_accuracy: 0.7793 - val_loss: 1.7329 - val_categorical_accuracy: 0.7637\n",
      "Epoch 69/75\n",
      "8182/8182 [==============================] - 2s 219us/step - loss: 1.6062 - categorical_accuracy: 0.7822 - val_loss: 1.6988 - val_categorical_accuracy: 0.7675\n",
      "Epoch 70/75\n",
      "8182/8182 [==============================] - 2s 239us/step - loss: 1.6011 - categorical_accuracy: 0.7842 - val_loss: 1.7050 - val_categorical_accuracy: 0.7675\n",
      "Epoch 71/75\n",
      "8182/8182 [==============================] - 2s 223us/step - loss: 1.6002 - categorical_accuracy: 0.7834 - val_loss: 1.6959 - val_categorical_accuracy: 0.7675\n",
      "Epoch 72/75\n",
      "8182/8182 [==============================] - 2s 221us/step - loss: 1.5974 - categorical_accuracy: 0.7839 - val_loss: 1.7046 - val_categorical_accuracy: 0.7688\n",
      "Epoch 73/75\n",
      "8182/8182 [==============================] - 2s 231us/step - loss: 1.5922 - categorical_accuracy: 0.7859 - val_loss: 1.6949 - val_categorical_accuracy: 0.7675\n",
      "Epoch 74/75\n",
      "8182/8182 [==============================] - 2s 220us/step - loss: 1.5883 - categorical_accuracy: 0.7837 - val_loss: 1.7080 - val_categorical_accuracy: 0.7662\n",
      "Epoch 75/75\n",
      "8182/8182 [==============================] - 2s 246us/step - loss: 1.5887 - categorical_accuracy: 0.7872 - val_loss: 1.7032 - val_categorical_accuracy: 0.7688\n"
     ]
    }
   ],
   "source": [
    "from keras import optimizers\n",
    "from keras import losses\n",
    "from keras import metrics\n",
    "\n",
    "X_validation = x_train[:800]\n",
    "X_train_without_val = x_train[800:]\n",
    "y_validation = y_train[:800]\n",
    "y_train_without_val = y_train[800:]\n",
    "\n",
    "\n",
    "model.compile(optimizer=optimizers.RMSprop(lr=0.001, rho=0.9),\n",
    "             loss=losses.categorical_crossentropy,\n",
    "             metrics=[metrics.categorical_accuracy])\n",
    "                           \n",
    "history = model.fit(X_train_without_val,\n",
    "                    y_train_without_val,\n",
    "                    epochs=25,\n",
    "                    batch_size=512,\n",
    "                    validation_data=(X_validation,y_validation))\n"
   ]
  },
  {
   "cell_type": "code",
   "execution_count": 9,
   "metadata": {},
   "outputs": [
    {
     "data": {
      "image/png": "[encoded data removed]",
      "text/plain": [
       "<Figure size 432x288 with 1 Axes>"
      ]
     },
     "metadata": {
      "needs_background": "light"
     },
     "output_type": "display_data"
    }
   ],
   "source": [
    "import matplotlib.pyplot as plt\n",
    "\n",
    "history_dict = history.history\n",
    "loss_values = history_dict['loss']\n",
    "val_loss_values = history_dict['val_loss']\n",
    "\n",
    "epochs = range(1, len(loss_values) + 1)\n",
    "\n",
    "plt.plot(epochs, loss_values, 'g--', label='Training loss')\n",
    "plt.plot(epochs, val_loss_values, 'r', label='Validation loss')\n",
    "plt.title('Training and validation loss')\n",
    "plt.xlabel('Epochs')\n",
    "plt.ylabel('Loss')\n",
    "plt.legend()\n",
    "\n",
    "plt.show()\n"
   ]
  },
  {
   "cell_type": "code",
   "execution_count": 8,
   "metadata": {},
   "outputs": [
    {
     "data": {
      "image/png": "[encoded data removed]",
      "text/plain": [
       "<Figure size 432x288 with 1 Axes>"
      ]
     },
     "metadata": {
      "needs_background": "light"
     },
     "output_type": "display_data"
    }
   ],
   "source": [
    "plt.clf()\n",
    "acc_values = history_dict['categorical_accuracy']\n",
    "val_acc_values = history_dict['val_categorical_accuracy']\n",
    "plt.plot(epochs, acc_values, 'g--', label='Training Accuracy')\n",
    "plt.plot(epochs, val_acc_values, 'r', label='Validation Accuracy')\n",
    "plt.title('Training and validation accuracy')\n",
    "plt.xlabel('Epochs')\n",
    "plt.ylabel('Accuracy')\n",
    "plt.legend()\n",
    "plt.show()"
   ]
  },
  {
   "cell_type": "code",
   "execution_count": null,
   "metadata": {},
   "outputs": [],
   "source": []
  }
 ],
 "metadata": {
  "kernelspec": {
   "display_name": "Python 3",
   "language": "python",
   "name": "python3"
  },
  "language_info": {
   "codemirror_mode": {
    "name": "ipython",
    "version": 3
   },
   "file_extension": ".py",
   "mimetype": "text/x-python",
   "name": "python",
   "nbconvert_exporter": "python",
   "pygments_lexer": "ipython3",
   "version": "3.7.3"
  }
 },
 "nbformat": 4,
 "nbformat_minor": 2
}
