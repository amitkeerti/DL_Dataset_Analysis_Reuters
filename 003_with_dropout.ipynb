{
 "cells": [
  {
   "cell_type": "code",
   "execution_count": 1,
   "metadata": {},
   "outputs": [],
   "source": [
    "import tensorflow as tf\n",
    "import numpy as np"
   ]
  },
  {
   "cell_type": "code",
   "execution_count": 2,
   "metadata": {},
   "outputs": [
    {
     "name": "stderr",
     "output_type": "stream",
     "text": [
      "Using TensorFlow backend.\n"
     ]
    }
   ],
   "source": [
    "from keras.datasets import reuters"
   ]
  },
  {
   "cell_type": "code",
   "execution_count": 3,
   "metadata": {},
   "outputs": [
    {
     "name": "stdout",
     "output_type": "stream",
     "text": [
      "[1, 2, 2, 8, 43, 10, 447, 5, 25, 207, 270, 5, 3095, 111, 16, 369, 186, 90, 67, 7, 89, 5, 19, 102, 6, 19, 124, 15, 90, 67, 84, 22, 482, 26, 7, 48, 4, 49, 8, 864, 39, 209, 154, 6, 151, 6, 83, 11, 15, 22, 155, 11, 15, 7, 48, 9, 4579, 1005, 504, 6, 258, 6, 272, 11, 15, 22, 134, 44, 11, 15, 16, 8, 197, 1245, 90, 67, 52, 29, 209, 30, 32, 132, 6, 109, 15, 17, 12]\n",
      "8982\n",
      "2246\n"
     ]
    }
   ],
   "source": [
    "#(train_data, train_labels), (test_data, test_labels) = reuters.load_data(num_words=10000)\n",
    "\n",
    "#The above line of code does not seem to be working. So I had to do the below code to load the Reuters data.\n",
    "\n",
    "# save np.load\n",
    "np_load_old = np.load\n",
    "\n",
    "# modify the default parameters of np.load\n",
    "np.load = lambda *a,**k: np_load_old(*a, allow_pickle=True, **k)\n",
    "\n",
    "# call load_data with allow_pickle implicitly set to true\n",
    "(train_X, train_Y), (test_X, test_Y) = reuters.load_data(num_words=10000)\n",
    "\n",
    "# restore np.load for future normal usage\n",
    "np.load = np_load_old\n",
    "\n",
    "print(train_X[0])\n",
    "\n",
    "print(len(train_X))\n",
    "print(len(test_Y))"
   ]
  },
  {
   "cell_type": "code",
   "execution_count": 4,
   "metadata": {},
   "outputs": [],
   "source": [
    "#Each review (row) is of different size. This data needs to be made uniform. \n",
    "# i.e. each reviuew (i.e. row) needs to be onehotencoded to a length of 10,000 (we have decided to have only 10000 features)\n",
    "import numpy as np\n",
    "from keras.utils.np_utils import to_categorical\n",
    "\n",
    "def OneHotEncoding_fn(ReutersData, dimension=10000):\n",
    "    # 8982 x 10k matrix of zeros\n",
    "    OneHotEncoded_Data = np.zeros((len(ReutersData), dimension))\n",
    "    for i, sequence in enumerate(ReutersData):\n",
    "        #Selectively make indices as 1 based on availability of word in the review.\n",
    "        OneHotEncoded_Data[i, sequence] = 1.\n",
    "    return OneHotEncoded_Data\n",
    "\n",
    "x_train = OneHotEncoding_fn(train_X)\n",
    "x_test = OneHotEncoding_fn(test_X)\n",
    "\n",
    "y_train = to_categorical(train_Y)\n",
    "y_test = to_categorical(test_Y)\n"
   ]
  },
  {
   "cell_type": "code",
   "execution_count": 5,
   "metadata": {},
   "outputs": [
    {
     "name": "stdout",
     "output_type": "stream",
     "text": [
      "WARNING:tensorflow:From C:\\ProgramData\\Anaconda3\\envs\\tensorflow_env\\lib\\site-packages\\tensorflow\\python\\ops\\control_flow_ops.py:423: colocate_with (from tensorflow.python.framework.ops) is deprecated and will be removed in a future version.\n",
      "Instructions for updating:\n",
      "Colocations handled automatically by placer.\n",
      "WARNING:tensorflow:From C:\\ProgramData\\Anaconda3\\envs\\tensorflow_env\\lib\\site-packages\\keras\\backend\\tensorflow_backend.py:3445: calling dropout (from tensorflow.python.ops.nn_ops) with keep_prob is deprecated and will be removed in a future version.\n",
      "Instructions for updating:\n",
      "Please use `rate` instead of `keep_prob`. Rate should be set to `rate = 1 - keep_prob`.\n"
     ]
    }
   ],
   "source": [
    "#create the layers\n",
    "from keras import models\n",
    "from keras import layers\n",
    "from keras import regularizers\n",
    "\n",
    "model = models.Sequential()\n",
    "model.add(layers.Dropout(0.6, input_shape=(10000,)))\n",
    "model.add(layers.Dense(64, activation='relu'))\n",
    "\n",
    "model.add(layers.Dropout(0.6))\n",
    "model.add(layers.Dense(64, activation='relu'))\n",
    "\n",
    "#model.add(layers.Dropout(0.4))\n",
    "model.add(layers.Dense(46, activation='softmax'))"
   ]
  },
  {
   "cell_type": "code",
   "execution_count": 6,
   "metadata": {},
   "outputs": [
    {
     "name": "stdout",
     "output_type": "stream",
     "text": [
      "WARNING:tensorflow:From C:\\ProgramData\\Anaconda3\\envs\\tensorflow_env\\lib\\site-packages\\tensorflow\\python\\ops\\math_ops.py:3066: to_int32 (from tensorflow.python.ops.math_ops) is deprecated and will be removed in a future version.\n",
      "Instructions for updating:\n",
      "Use tf.cast instead.\n",
      "Train on 8182 samples, validate on 800 samples\n",
      "Epoch 1/25\n",
      "8182/8182 [==============================] - 4s 530us/step - loss: 2.9224 - categorical_accuracy: 0.3549 - val_loss: 2.1016 - val_categorical_accuracy: 0.5475\n",
      "Epoch 2/25\n",
      "8182/8182 [==============================] - 3s 375us/step - loss: 2.0657 - categorical_accuracy: 0.5187 - val_loss: 1.6718 - val_categorical_accuracy: 0.6225\n",
      "Epoch 3/25\n",
      "8182/8182 [==============================] - 3s 370us/step - loss: 1.8099 - categorical_accuracy: 0.5722 - val_loss: 1.5008 - val_categorical_accuracy: 0.6638\n",
      "Epoch 4/25\n",
      "8182/8182 [==============================] - 3s 397us/step - loss: 1.6607 - categorical_accuracy: 0.6122 - val_loss: 1.3816 - val_categorical_accuracy: 0.6888\n",
      "Epoch 5/25\n",
      "8182/8182 [==============================] - 3s 421us/step - loss: 1.5388 - categorical_accuracy: 0.6428 - val_loss: 1.2977 - val_categorical_accuracy: 0.7063\n",
      "Epoch 6/25\n",
      "8182/8182 [==============================] - 3s 376us/step - loss: 1.4556 - categorical_accuracy: 0.6623 - val_loss: 1.2343 - val_categorical_accuracy: 0.7150\n",
      "Epoch 7/25\n",
      "8182/8182 [==============================] - 3s 380us/step - loss: 1.3895 - categorical_accuracy: 0.6756 - val_loss: 1.1875 - val_categorical_accuracy: 0.7338\n",
      "Epoch 8/25\n",
      "8182/8182 [==============================] - 3s 374us/step - loss: 1.3468 - categorical_accuracy: 0.6861 - val_loss: 1.1479 - val_categorical_accuracy: 0.7450\n",
      "Epoch 9/25\n",
      "8182/8182 [==============================] - 3s 397us/step - loss: 1.2834 - categorical_accuracy: 0.6967 - val_loss: 1.1068 - val_categorical_accuracy: 0.7500\n",
      "Epoch 10/25\n",
      "8182/8182 [==============================] - 3s 372us/step - loss: 1.2365 - categorical_accuracy: 0.7094 - val_loss: 1.0794 - val_categorical_accuracy: 0.7650\n",
      "Epoch 11/25\n",
      "8182/8182 [==============================] - 3s 389us/step - loss: 1.1898 - categorical_accuracy: 0.7189 - val_loss: 1.0567 - val_categorical_accuracy: 0.7687\n",
      "Epoch 12/25\n",
      "8182/8182 [==============================] - 3s 376us/step - loss: 1.1644 - categorical_accuracy: 0.7262 - val_loss: 1.0364 - val_categorical_accuracy: 0.7738\n",
      "Epoch 13/25\n",
      "8182/8182 [==============================] - 3s 379us/step - loss: 1.1159 - categorical_accuracy: 0.7398 - val_loss: 1.0133 - val_categorical_accuracy: 0.7800\n",
      "Epoch 14/25\n",
      "8182/8182 [==============================] - 3s 399us/step - loss: 1.0788 - categorical_accuracy: 0.7441 - val_loss: 1.0086 - val_categorical_accuracy: 0.7850\n",
      "Epoch 15/25\n",
      "8182/8182 [==============================] - 3s 375us/step - loss: 1.0668 - categorical_accuracy: 0.7520 - val_loss: 0.9946 - val_categorical_accuracy: 0.7888\n",
      "Epoch 16/25\n",
      "8182/8182 [==============================] - 3s 375us/step - loss: 1.0396 - categorical_accuracy: 0.7509 - val_loss: 0.9742 - val_categorical_accuracy: 0.7925\n",
      "Epoch 17/25\n",
      "8182/8182 [==============================] - 3s 374us/step - loss: 1.0076 - categorical_accuracy: 0.7603 - val_loss: 0.9623 - val_categorical_accuracy: 0.8000\n",
      "Epoch 18/25\n",
      "8182/8182 [==============================] - 3s 377us/step - loss: 0.9986 - categorical_accuracy: 0.7604 - val_loss: 0.9572 - val_categorical_accuracy: 0.8012\n",
      "Epoch 19/25\n",
      "8182/8182 [==============================] - 3s 395us/step - loss: 0.9689 - categorical_accuracy: 0.7646 - val_loss: 0.9496 - val_categorical_accuracy: 0.8050\n",
      "Epoch 20/25\n",
      "8182/8182 [==============================] - 3s 408us/step - loss: 0.9606 - categorical_accuracy: 0.7667 - val_loss: 0.9435 - val_categorical_accuracy: 0.8050\n",
      "Epoch 21/25\n",
      "8182/8182 [==============================] - 3s 379us/step - loss: 0.9255 - categorical_accuracy: 0.7735 - val_loss: 0.9343 - val_categorical_accuracy: 0.8025\n",
      "Epoch 22/25\n",
      "8182/8182 [==============================] - 3s 377us/step - loss: 0.9151 - categorical_accuracy: 0.7773 - val_loss: 0.9206 - val_categorical_accuracy: 0.8100\n",
      "Epoch 23/25\n",
      "8182/8182 [==============================] - 3s 396us/step - loss: 0.8979 - categorical_accuracy: 0.7794 - val_loss: 0.9098 - val_categorical_accuracy: 0.8087\n",
      "Epoch 24/25\n",
      "8182/8182 [==============================] - 3s 374us/step - loss: 0.8943 - categorical_accuracy: 0.7732 - val_loss: 0.9205 - val_categorical_accuracy: 0.8062\n",
      "Epoch 25/25\n",
      "8182/8182 [==============================] - 3s 375us/step - loss: 0.8700 - categorical_accuracy: 0.7845 - val_loss: 0.9084 - val_categorical_accuracy: 0.8113\n"
     ]
    }
   ],
   "source": [
    "from keras import optimizers\n",
    "from keras import losses\n",
    "from keras import metrics\n",
    "\n",
    "X_validation = x_train[:800]\n",
    "X_train_without_val = x_train[800:]\n",
    "y_validation = y_train[:800]\n",
    "y_train_without_val = y_train[800:]\n",
    "\n",
    "\n",
    "model.compile(optimizer=optimizers.RMSprop(lr=0.001, rho=0.9),\n",
    "             loss=losses.categorical_crossentropy,\n",
    "             metrics=[metrics.categorical_accuracy])\n",
    "                           \n",
    "history = model.fit(X_train_without_val,\n",
    "                    y_train_without_val,\n",
    "                    epochs=25,\n",
    "                    batch_size=512,\n",
    "                    validation_data=(X_validation,y_validation))\n"
   ]
  },
  {
   "cell_type": "code",
   "execution_count": 9,
   "metadata": {},
   "outputs": [
    {
     "data": {
      "image/png": "[encoded data removed]",
      "text/plain": [
       "<Figure size 432x288 with 1 Axes>"
      ]
     },
     "metadata": {
      "needs_background": "light"
     },
     "output_type": "display_data"
    }
   ],
   "source": [
    "import matplotlib.pyplot as plt\n",
    "\n",
    "history_dict = history.history\n",
    "loss_values = history_dict['loss']\n",
    "val_loss_values = history_dict['val_loss']\n",
    "\n",
    "epochs = range(1, len(loss_values) + 1)\n",
    "\n",
    "plt.plot(epochs, loss_values, 'g--', label='Training loss')\n",
    "plt.plot(epochs, val_loss_values, 'r', label='Validation loss')\n",
    "plt.title('Training and validation loss')\n",
    "plt.xlabel('Epochs')\n",
    "plt.ylabel('Loss')\n",
    "plt.legend()\n",
    "\n",
    "plt.show()\n"
   ]
  },
  {
   "cell_type": "code",
   "execution_count": 8,
   "metadata": {},
   "outputs": [
    {
     "data": {
      "image/png": "[encoded data removed]",
      "text/plain": [
       "<Figure size 432x288 with 1 Axes>"
      ]
     },
     "metadata": {
      "needs_background": "light"
     },
     "output_type": "display_data"
    }
   ],
   "source": [
    "plt.clf()\n",
    "acc_values = history_dict['categorical_accuracy']\n",
    "val_acc_values = history_dict['val_categorical_accuracy']\n",
    "plt.plot(epochs, acc_values, 'g--', label='Training Accuracy')\n",
    "plt.plot(epochs, val_acc_values, 'r', label='Validation Accuracy')\n",
    "plt.title('Training and validation accuracy')\n",
    "plt.xlabel('Epochs')\n",
    "plt.ylabel('Accuracy')\n",
    "plt.legend()\n",
    "plt.show()"
   ]
  },
  {
   "cell_type": "code",
   "execution_count": null,
   "metadata": {},
   "outputs": [],
   "source": []
  }
 ],
 "metadata": {
  "kernelspec": {
   "display_name": "Python 3",
   "language": "python",
   "name": "python3"
  },
  "language_info": {
   "codemirror_mode": {
    "name": "ipython",
    "version": 3
   },
   "file_extension": ".py",
   "mimetype": "text/x-python",
   "name": "python",
   "nbconvert_exporter": "python",
   "pygments_lexer": "ipython3",
   "version": "3.7.3"
  }
 },
 "nbformat": 4,
 "nbformat_minor": 2
}
