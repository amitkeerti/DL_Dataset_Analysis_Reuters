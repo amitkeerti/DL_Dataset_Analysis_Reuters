{
 "cells": [
  {
   "cell_type": "code",
   "execution_count": 1,
   "metadata": {},
   "outputs": [],
   "source": [
    "import tensorflow as tf\n",
    "import numpy as np"
   ]
  },
  {
   "cell_type": "code",
   "execution_count": 2,
   "metadata": {},
   "outputs": [
    {
     "name": "stderr",
     "output_type": "stream",
     "text": [
      "Using TensorFlow backend.\n"
     ]
    }
   ],
   "source": [
    "from keras.datasets import reuters"
   ]
  },
  {
   "cell_type": "code",
   "execution_count": 3,
   "metadata": {},
   "outputs": [
    {
     "name": "stdout",
     "output_type": "stream",
     "text": [
      "[1, 2, 2, 8, 43, 10, 447, 5, 25, 207, 270, 5, 3095, 111, 16, 369, 186, 90, 67, 7, 89, 5, 19, 102, 6, 19, 124, 15, 90, 67, 84, 22, 482, 26, 7, 48, 4, 49, 8, 864, 39, 209, 154, 6, 151, 6, 83, 11, 15, 22, 155, 11, 15, 7, 48, 9, 4579, 1005, 504, 6, 258, 6, 272, 11, 15, 22, 134, 44, 11, 15, 16, 8, 197, 1245, 90, 67, 52, 29, 209, 30, 32, 132, 6, 109, 15, 17, 12]\n",
      "8982\n",
      "2246\n"
     ]
    }
   ],
   "source": [
    "#(train_data, train_labels), (test_data, test_labels) = reuters.load_data(num_words=10000)\n",
    "\n",
    "#The above line of code does not seem to be working. So I had to do the below code to load the Reuters data.\n",
    "\n",
    "# save np.load\n",
    "np_load_old = np.load\n",
    "\n",
    "# modify the default parameters of np.load\n",
    "np.load = lambda *a,**k: np_load_old(*a, allow_pickle=True, **k)\n",
    "\n",
    "# call load_data with allow_pickle implicitly set to true\n",
    "(train_X, train_Y), (test_X, test_Y) = reuters.load_data(num_words=10000)\n",
    "\n",
    "# restore np.load for future normal usage\n",
    "np.load = np_load_old\n",
    "\n",
    "print(train_X[0])\n",
    "\n",
    "print(len(train_X))\n",
    "print(len(test_Y))"
   ]
  },
  {
   "cell_type": "code",
   "execution_count": 4,
   "metadata": {},
   "outputs": [],
   "source": [
    "#Each review (row) is of different size. This data needs to be made uniform. \n",
    "# i.e. each reviuew (i.e. row) needs to be onehotencoded to a length of 10,000 (we have decided to have only 10000 features)\n",
    "import numpy as np\n",
    "from keras.utils.np_utils import to_categorical\n",
    "\n",
    "def OneHotEncoding_fn(ReutersData, dimension=10000):\n",
    "    # 8982 x 10k matrix of zeros\n",
    "    OneHotEncoded_Data = np.zeros((len(ReutersData), dimension))\n",
    "    for i, sequence in enumerate(ReutersData):\n",
    "        #Selectively make indices as 1 based on availability of word in the review.\n",
    "        OneHotEncoded_Data[i, sequence] = 1.\n",
    "    return OneHotEncoded_Data\n",
    "\n",
    "x_train = OneHotEncoding_fn(train_X)\n",
    "x_test = OneHotEncoding_fn(test_X)\n",
    "\n",
    "y_train = to_categorical(train_Y)\n",
    "y_test = to_categorical(test_Y)\n"
   ]
  },
  {
   "cell_type": "code",
   "execution_count": 5,
   "metadata": {},
   "outputs": [
    {
     "name": "stdout",
     "output_type": "stream",
     "text": [
      "WARNING:tensorflow:From C:\\ProgramData\\Anaconda3\\envs\\tensorflow_env\\lib\\site-packages\\tensorflow\\python\\ops\\control_flow_ops.py:423: colocate_with (from tensorflow.python.framework.ops) is deprecated and will be removed in a future version.\n",
      "Instructions for updating:\n",
      "Colocations handled automatically by placer.\n",
      "WARNING:tensorflow:From C:\\ProgramData\\Anaconda3\\envs\\tensorflow_env\\lib\\site-packages\\keras\\backend\\tensorflow_backend.py:3445: calling dropout (from tensorflow.python.ops.nn_ops) with keep_prob is deprecated and will be removed in a future version.\n",
      "Instructions for updating:\n",
      "Please use `rate` instead of `keep_prob`. Rate should be set to `rate = 1 - keep_prob`.\n"
     ]
    }
   ],
   "source": [
    "#create the layers\n",
    "from keras import models\n",
    "from keras import layers\n",
    "from keras import regularizers\n",
    "from keras.layers import Activation\n",
    "\n",
    "model = models.Sequential()\n",
    "\n",
    "#I/P Layer\n",
    "model.add(layers.Dropout(0.7, input_shape=(10000,)))\n",
    "model.add(layers.Dense(128))\n",
    "#model.add(layers.ReLU())\n",
    "#model.add(layers.LeakyReLU(alpha=0.3))\n",
    "model.add(layers.PReLU())\n",
    "#model.add(layers.ELU(alpha=1.0))\n",
    "\n",
    "\n",
    "#1st hidden layer\n",
    "model.add(layers.Dropout(0.7))\n",
    "model.add(layers.Dense(128))\n",
    "#model.add(layers.ReLU())\n",
    "#model.add(layers.LeakyReLU(alpha=0.3))\n",
    "model.add(layers.PReLU())\n",
    "#model.add(layers.ELU(alpha=1.0))\n",
    "\n",
    "\n",
    "#model.add(layers.Dropout(0.4))\n",
    "model.add(layers.Dense(46, activation='softmax'))"
   ]
  },
  {
   "cell_type": "code",
   "execution_count": 6,
   "metadata": {},
   "outputs": [
    {
     "name": "stdout",
     "output_type": "stream",
     "text": [
      "WARNING:tensorflow:From C:\\ProgramData\\Anaconda3\\envs\\tensorflow_env\\lib\\site-packages\\tensorflow\\python\\ops\\math_ops.py:3066: to_int32 (from tensorflow.python.ops.math_ops) is deprecated and will be removed in a future version.\n",
      "Instructions for updating:\n",
      "Use tf.cast instead.\n",
      "Train on 8182 samples, validate on 800 samples\n",
      "Epoch 1/30\n",
      "8182/8182 [==============================] - 5s 643us/step - loss: 3.2965 - categorical_accuracy: 0.3044 - val_loss: 2.4428 - val_categorical_accuracy: 0.5400\n",
      "Epoch 2/30\n",
      "8182/8182 [==============================] - 4s 503us/step - loss: 2.2638 - categorical_accuracy: 0.4866 - val_loss: 1.7352 - val_categorical_accuracy: 0.6050\n",
      "Epoch 3/30\n",
      "8182/8182 [==============================] - 4s 532us/step - loss: 1.8631 - categorical_accuracy: 0.5538 - val_loss: 1.5404 - val_categorical_accuracy: 0.6437\n",
      "Epoch 4/30\n",
      "8182/8182 [==============================] - 4s 501us/step - loss: 1.7298 - categorical_accuracy: 0.5967 - val_loss: 1.4256 - val_categorical_accuracy: 0.6825\n",
      "Epoch 5/30\n",
      "8182/8182 [==============================] - 6s 729us/step - loss: 1.6122 - categorical_accuracy: 0.6243 - val_loss: 1.3297 - val_categorical_accuracy: 0.6975\n",
      "Epoch 6/30\n",
      "8182/8182 [==============================] - 4s 510us/step - loss: 1.5037 - categorical_accuracy: 0.6496 - val_loss: 1.2569 - val_categorical_accuracy: 0.7075\n",
      "Epoch 7/30\n",
      "8182/8182 [==============================] - 4s 466us/step - loss: 1.4307 - categorical_accuracy: 0.6650 - val_loss: 1.2070 - val_categorical_accuracy: 0.7175\n",
      "Epoch 8/30\n",
      "8182/8182 [==============================] - 4s 455us/step - loss: 1.3599 - categorical_accuracy: 0.6759 - val_loss: 1.1526 - val_categorical_accuracy: 0.7475\n",
      "Epoch 9/30\n",
      "8182/8182 [==============================] - 4s 544us/step - loss: 1.3006 - categorical_accuracy: 0.6920 - val_loss: 1.1050 - val_categorical_accuracy: 0.7612\n",
      "Epoch 10/30\n",
      "8182/8182 [==============================] - 5s 667us/step - loss: 1.2475 - categorical_accuracy: 0.7041 - val_loss: 1.0605 - val_categorical_accuracy: 0.7825\n",
      "Epoch 11/30\n",
      "8182/8182 [==============================] - 9s 1ms/step - loss: 1.1925 - categorical_accuracy: 0.7212 - val_loss: 1.0251 - val_categorical_accuracy: 0.7938\n",
      "Epoch 12/30\n",
      "8182/8182 [==============================] - 4s 533us/step - loss: 1.1453 - categorical_accuracy: 0.7233 - val_loss: 0.9953 - val_categorical_accuracy: 0.8087\n",
      "Epoch 13/30\n",
      "8182/8182 [==============================] - 5s 559us/step - loss: 1.0925 - categorical_accuracy: 0.7382 - val_loss: 0.9707 - val_categorical_accuracy: 0.8063\n",
      "Epoch 14/30\n",
      "8182/8182 [==============================] - 4s 513us/step - loss: 1.0588 - categorical_accuracy: 0.7440 - val_loss: 0.9487 - val_categorical_accuracy: 0.8125\n",
      "Epoch 15/30\n",
      "8182/8182 [==============================] - 4s 499us/step - loss: 1.0187 - categorical_accuracy: 0.7534 - val_loss: 0.9277 - val_categorical_accuracy: 0.8075\n",
      "Epoch 16/30\n",
      "8182/8182 [==============================] - 4s 467us/step - loss: 0.9915 - categorical_accuracy: 0.7540 - val_loss: 0.9162 - val_categorical_accuracy: 0.8125\n",
      "Epoch 17/30\n",
      "8182/8182 [==============================] - 5s 582us/step - loss: 0.9459 - categorical_accuracy: 0.7672 - val_loss: 0.9034 - val_categorical_accuracy: 0.8200\n",
      "Epoch 18/30\n",
      "8182/8182 [==============================] - 5s 559us/step - loss: 0.9443 - categorical_accuracy: 0.7644 - val_loss: 0.8930 - val_categorical_accuracy: 0.8200\n",
      "Epoch 19/30\n",
      "8182/8182 [==============================] - 5s 554us/step - loss: 0.9030 - categorical_accuracy: 0.7761 - val_loss: 0.8866 - val_categorical_accuracy: 0.8163\n",
      "Epoch 20/30\n",
      "8182/8182 [==============================] - 4s 497us/step - loss: 0.8836 - categorical_accuracy: 0.7752 - val_loss: 0.8709 - val_categorical_accuracy: 0.8162\n",
      "Epoch 21/30\n",
      "8182/8182 [==============================] - 4s 497us/step - loss: 0.8449 - categorical_accuracy: 0.7853 - val_loss: 0.8678 - val_categorical_accuracy: 0.8137\n",
      "Epoch 22/30\n",
      "8182/8182 [==============================] - 5s 587us/step - loss: 0.8412 - categorical_accuracy: 0.7857 - val_loss: 0.8565 - val_categorical_accuracy: 0.8188\n",
      "Epoch 23/30\n",
      "8182/8182 [==============================] - 5s 569us/step - loss: 0.8068 - categorical_accuracy: 0.7947 - val_loss: 0.8436 - val_categorical_accuracy: 0.8187\n",
      "Epoch 24/30\n",
      "8182/8182 [==============================] - 5s 556us/step - loss: 0.7936 - categorical_accuracy: 0.7955 - val_loss: 0.8434 - val_categorical_accuracy: 0.8188\n",
      "Epoch 25/30\n",
      "8182/8182 [==============================] - 4s 494us/step - loss: 0.7729 - categorical_accuracy: 0.8008 - val_loss: 0.8333 - val_categorical_accuracy: 0.8200\n",
      "Epoch 26/30\n",
      "8182/8182 [==============================] - 4s 506us/step - loss: 0.7583 - categorical_accuracy: 0.8071 - val_loss: 0.8314 - val_categorical_accuracy: 0.8225\n",
      "Epoch 27/30\n",
      "8182/8182 [==============================] - 5s 550us/step - loss: 0.7491 - categorical_accuracy: 0.8077 - val_loss: 0.8254 - val_categorical_accuracy: 0.8212\n",
      "Epoch 28/30\n",
      "8182/8182 [==============================] - 5s 612us/step - loss: 0.7115 - categorical_accuracy: 0.8197 - val_loss: 0.8187 - val_categorical_accuracy: 0.8250\n",
      "Epoch 29/30\n",
      "8182/8182 [==============================] - 4s 534us/step - loss: 0.6966 - categorical_accuracy: 0.8167 - val_loss: 0.8258 - val_categorical_accuracy: 0.8200\n",
      "Epoch 30/30\n",
      "8182/8182 [==============================] - 4s 465us/step - loss: 0.6913 - categorical_accuracy: 0.8185 - val_loss: 0.8186 - val_categorical_accuracy: 0.8225\n"
     ]
    }
   ],
   "source": [
    "from keras import optimizers\n",
    "from keras import losses\n",
    "from keras import metrics\n",
    "\n",
    "X_validation = x_train[:800]\n",
    "X_train_without_val = x_train[800:]\n",
    "y_validation = y_train[:800]\n",
    "y_train_without_val = y_train[800:]\n",
    "\n",
    "#model.compile(optimizer=optimizers.RMSprop(lr=0.001, rho=0.9),\n",
    "#model.compile(optimizer=optimizers.SGD(lr=0.01, momentum=0.9, decay=0.0, nesterov=False),  #Momentum\n",
    "#model.compile(optimizer=optimizers.SGD(lr=0.01, momentum=0.9, decay=0.0, nesterov=True),   #Nesterov\n",
    "#model.compile(optimizer=optimizers.Adagrad(lr=0.01, epsilon=None, decay=0.0),              #Adagrad\n",
    "model.compile(optimizers.Adam(lr=0.001, beta_1=0.9, beta_2=0.999, epsilon=None, decay=0.0, amsgrad=False), #Adam\n",
    "             loss=losses.categorical_crossentropy,\n",
    "             metrics=[metrics.categorical_accuracy])\n",
    "                           \n",
    "history = model.fit(X_train_without_val,\n",
    "                    y_train_without_val,\n",
    "                    epochs=30,\n",
    "                    batch_size=512,\n",
    "                    validation_data=(X_validation,y_validation))\n"
   ]
  },
  {
   "cell_type": "code",
   "execution_count": 9,
   "metadata": {},
   "outputs": [
    {
     "data": {
      "image/png": "[encoded data removed]",
      "text/plain": [
       "<Figure size 432x288 with 1 Axes>"
      ]
     },
     "metadata": {
      "needs_background": "light"
     },
     "output_type": "display_data"
    }
   ],
   "source": [
    "import matplotlib.pyplot as plt\n",
    "\n",
    "history_dict = history.history\n",
    "loss_values = history_dict['loss']\n",
    "val_loss_values = history_dict['val_loss']\n",
    "\n",
    "epochs = range(1, len(loss_values) + 1)\n",
    "\n",
    "plt.plot(epochs, loss_values, 'g--', label='Training loss')\n",
    "plt.plot(epochs, val_loss_values, 'r', label='Validation loss')\n",
    "plt.title('Training and validation loss')\n",
    "plt.xlabel('Epochs')\n",
    "plt.ylabel('Loss')\n",
    "plt.legend()\n",
    "\n",
    "plt.show()\n"
   ]
  },
  {
   "cell_type": "code",
   "execution_count": 8,
   "metadata": {},
   "outputs": [
    {
     "data": {
      "image/png": "[encoded data removed]",
      "text/plain": [
       "<Figure size 432x288 with 1 Axes>"
      ]
     },
     "metadata": {
      "needs_background": "light"
     },
     "output_type": "display_data"
    }
   ],
   "source": [
    "plt.clf()\n",
    "acc_values = history_dict['categorical_accuracy']\n",
    "val_acc_values = history_dict['val_categorical_accuracy']\n",
    "plt.plot(epochs, acc_values, 'g--', label='Training Accuracy')\n",
    "plt.plot(epochs, val_acc_values, 'r', label='Validation Accuracy')\n",
    "plt.title('Training and validation accuracy')\n",
    "plt.xlabel('Epochs')\n",
    "plt.ylabel('Accuracy')\n",
    "plt.legend()\n",
    "plt.show()"
   ]
  },
  {
   "cell_type": "code",
   "execution_count": null,
   "metadata": {},
   "outputs": [],
   "source": []
  }
 ],
 "metadata": {
  "kernelspec": {
   "display_name": "Python 3",
   "language": "python",
   "name": "python3"
  },
  "language_info": {
   "codemirror_mode": {
    "name": "ipython",
    "version": 3
   },
   "file_extension": ".py",
   "mimetype": "text/x-python",
   "name": "python",
   "nbconvert_exporter": "python",
   "pygments_lexer": "ipython3",
   "version": "3.7.3"
  }
 },
 "nbformat": 4,
 "nbformat_minor": 2
}
