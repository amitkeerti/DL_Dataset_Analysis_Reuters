{
 "cells": [
  {
   "cell_type": "code",
   "execution_count": 1,
   "metadata": {},
   "outputs": [],
   "source": [
    "import tensorflow as tf\n",
    "import numpy as np"
   ]
  },
  {
   "cell_type": "code",
   "execution_count": 2,
   "metadata": {},
   "outputs": [
    {
     "name": "stderr",
     "output_type": "stream",
     "text": [
      "Using TensorFlow backend.\n"
     ]
    }
   ],
   "source": [
    "from keras.datasets import reuters"
   ]
  },
  {
   "cell_type": "code",
   "execution_count": 3,
   "metadata": {},
   "outputs": [
    {
     "name": "stdout",
     "output_type": "stream",
     "text": [
      "[1, 2, 2, 8, 43, 10, 447, 5, 25, 207, 270, 5, 3095, 111, 16, 369, 186, 90, 67, 7, 89, 5, 19, 102, 6, 19, 124, 15, 90, 67, 84, 22, 482, 26, 7, 48, 4, 49, 8, 864, 39, 209, 154, 6, 151, 6, 83, 11, 15, 22, 155, 11, 15, 7, 48, 9, 4579, 1005, 504, 6, 258, 6, 272, 11, 15, 22, 134, 44, 11, 15, 16, 8, 197, 1245, 90, 67, 52, 29, 209, 30, 32, 132, 6, 109, 15, 17, 12]\n",
      "8982\n",
      "2246\n"
     ]
    }
   ],
   "source": [
    "#(train_data, train_labels), (test_data, test_labels) = reuters.load_data(num_words=10000)\n",
    "\n",
    "#The above line of code does not seem to be working. So I had to do the below code to load the Reuters data.\n",
    "\n",
    "# save np.load\n",
    "np_load_old = np.load\n",
    "\n",
    "# modify the default parameters of np.load\n",
    "np.load = lambda *a,**k: np_load_old(*a, allow_pickle=True, **k)\n",
    "\n",
    "# call load_data with allow_pickle implicitly set to true\n",
    "(train_X, train_Y), (test_X, test_Y) = reuters.load_data(num_words=10000)\n",
    "\n",
    "# restore np.load for future normal usage\n",
    "np.load = np_load_old\n",
    "\n",
    "print(train_X[0])\n",
    "\n",
    "print(len(train_X))\n",
    "print(len(test_Y))"
   ]
  },
  {
   "cell_type": "code",
   "execution_count": 4,
   "metadata": {},
   "outputs": [],
   "source": [
    "#Each review (row) is of different size. This data needs to be made uniform. \n",
    "# i.e. each reviuew (i.e. row) needs to be onehotencoded to a length of 10,000 (we have decided to have only 10000 features)\n",
    "import numpy as np\n",
    "from keras.utils.np_utils import to_categorical\n",
    "\n",
    "def OneHotEncoding_fn(ReutersData, dimension=10000):\n",
    "    # 8982 x 10k matrix of zeros\n",
    "    OneHotEncoded_Data = np.zeros((len(ReutersData), dimension))\n",
    "    for i, sequence in enumerate(ReutersData):\n",
    "        #Selectively make indices as 1 based on availability of word in the review.\n",
    "        OneHotEncoded_Data[i, sequence] = 1.\n",
    "    return OneHotEncoded_Data\n",
    "\n",
    "x_train = OneHotEncoding_fn(train_X)\n",
    "x_test = OneHotEncoding_fn(test_X)\n",
    "\n",
    "y_train = to_categorical(train_Y)\n",
    "y_test = to_categorical(test_Y)\n"
   ]
  },
  {
   "cell_type": "code",
   "execution_count": 5,
   "metadata": {},
   "outputs": [
    {
     "name": "stdout",
     "output_type": "stream",
     "text": [
      "WARNING:tensorflow:From C:\\ProgramData\\Anaconda3\\envs\\tensorflow_env\\lib\\site-packages\\tensorflow\\python\\ops\\control_flow_ops.py:423: colocate_with (from tensorflow.python.framework.ops) is deprecated and will be removed in a future version.\n",
      "Instructions for updating:\n",
      "Colocations handled automatically by placer.\n",
      "WARNING:tensorflow:From C:\\ProgramData\\Anaconda3\\envs\\tensorflow_env\\lib\\site-packages\\keras\\backend\\tensorflow_backend.py:3445: calling dropout (from tensorflow.python.ops.nn_ops) with keep_prob is deprecated and will be removed in a future version.\n",
      "Instructions for updating:\n",
      "Please use `rate` instead of `keep_prob`. Rate should be set to `rate = 1 - keep_prob`.\n"
     ]
    }
   ],
   "source": [
    "#create the layers\n",
    "from keras import models\n",
    "from keras import layers\n",
    "from keras import regularizers\n",
    "from keras.layers import Activation\n",
    "\n",
    "model = models.Sequential()\n",
    "\n",
    "#I/P Layer\n",
    "model.add(layers.Dropout(0.67, input_shape=(10000,)))\n",
    "model.add(layers.Dense(128, kernel_initializer='he_uniform'))\n",
    "model.add(layers.BatchNormalization(axis=-1, momentum=0.99))\n",
    "model.add(layers.ReLU())\n",
    "\n",
    "\n",
    "#1st hidden layer\n",
    "model.add(layers.Dropout(0.67))\n",
    "model.add(layers.Dense(128, kernel_initializer='he_uniform'))\n",
    "model.add(layers.BatchNormalization(axis=-1, momentum=0.99))\n",
    "model.add(layers.ReLU())\n",
    "\n",
    "#model.add(layers.Dropout(0.4))\n",
    "model.add(layers.Dense(46, activation='softmax'))"
   ]
  },
  {
   "cell_type": "code",
   "execution_count": 6,
   "metadata": {},
   "outputs": [
    {
     "name": "stdout",
     "output_type": "stream",
     "text": [
      "WARNING:tensorflow:From C:\\ProgramData\\Anaconda3\\envs\\tensorflow_env\\lib\\site-packages\\tensorflow\\python\\ops\\math_ops.py:3066: to_int32 (from tensorflow.python.ops.math_ops) is deprecated and will be removed in a future version.\n",
      "Instructions for updating:\n",
      "Use tf.cast instead.\n",
      "Train on 8182 samples, validate on 800 samples\n",
      "Epoch 1/30\n",
      "8182/8182 [==============================] - 7s 912us/step - loss: 3.3325 - categorical_accuracy: 0.2451 - val_loss: 2.6386 - val_categorical_accuracy: 0.5688\n",
      "Epoch 2/30\n",
      "8182/8182 [==============================] - 4s 459us/step - loss: 2.1821 - categorical_accuracy: 0.5277 - val_loss: 1.8966 - val_categorical_accuracy: 0.6463\n",
      "Epoch 3/30\n",
      "8182/8182 [==============================] - 4s 501us/step - loss: 1.7716 - categorical_accuracy: 0.5831 - val_loss: 1.6293 - val_categorical_accuracy: 0.6725\n",
      "Epoch 4/30\n",
      "8182/8182 [==============================] - 5s 584us/step - loss: 1.6363 - categorical_accuracy: 0.6178 - val_loss: 1.4937 - val_categorical_accuracy: 0.6975\n",
      "Epoch 5/30\n",
      "8182/8182 [==============================] - 5s 615us/step - loss: 1.5216 - categorical_accuracy: 0.6359 - val_loss: 1.3965 - val_categorical_accuracy: 0.7188\n",
      "Epoch 6/30\n",
      "8182/8182 [==============================] - 5s 571us/step - loss: 1.4358 - categorical_accuracy: 0.6525 - val_loss: 1.3072 - val_categorical_accuracy: 0.7375\n",
      "Epoch 7/30\n",
      "8182/8182 [==============================] - 4s 522us/step - loss: 1.3774 - categorical_accuracy: 0.6649 - val_loss: 1.2299 - val_categorical_accuracy: 0.7550\n",
      "Epoch 8/30\n",
      "8182/8182 [==============================] - 5s 605us/step - loss: 1.3152 - categorical_accuracy: 0.6784 - val_loss: 1.1712 - val_categorical_accuracy: 0.7700\n",
      "Epoch 9/30\n",
      "8182/8182 [==============================] - 5s 560us/step - loss: 1.2719 - categorical_accuracy: 0.6879 - val_loss: 1.1211 - val_categorical_accuracy: 0.7850\n",
      "Epoch 10/30\n",
      "8182/8182 [==============================] - 4s 522us/step - loss: 1.2169 - categorical_accuracy: 0.7058 - val_loss: 1.0829 - val_categorical_accuracy: 0.7938\n",
      "Epoch 11/30\n",
      "8182/8182 [==============================] - 4s 487us/step - loss: 1.1817 - categorical_accuracy: 0.7089 - val_loss: 1.0417 - val_categorical_accuracy: 0.8013\n",
      "Epoch 12/30\n",
      "8182/8182 [==============================] - 4s 441us/step - loss: 1.1299 - categorical_accuracy: 0.7185 - val_loss: 1.0058 - val_categorical_accuracy: 0.8075\n",
      "Epoch 13/30\n",
      "8182/8182 [==============================] - 4s 456us/step - loss: 1.0859 - categorical_accuracy: 0.7355 - val_loss: 0.9762 - val_categorical_accuracy: 0.8087\n",
      "Epoch 14/30\n",
      "8182/8182 [==============================] - 4s 466us/step - loss: 1.0626 - categorical_accuracy: 0.7352 - val_loss: 0.9512 - val_categorical_accuracy: 0.8137\n",
      "Epoch 15/30\n",
      "8182/8182 [==============================] - 4s 466us/step - loss: 1.0374 - categorical_accuracy: 0.7473 - val_loss: 0.9270 - val_categorical_accuracy: 0.8138\n",
      "Epoch 16/30\n",
      "8182/8182 [==============================] - 5s 595us/step - loss: 0.9857 - categorical_accuracy: 0.7490 - val_loss: 0.9070 - val_categorical_accuracy: 0.8125\n",
      "Epoch 17/30\n",
      "8182/8182 [==============================] - 6s 741us/step - loss: 0.9593 - categorical_accuracy: 0.7573 - val_loss: 0.8930 - val_categorical_accuracy: 0.8113\n",
      "Epoch 18/30\n",
      "8182/8182 [==============================] - 5s 605us/step - loss: 0.9450 - categorical_accuracy: 0.7586 - val_loss: 0.8780 - val_categorical_accuracy: 0.8100\n",
      "Epoch 19/30\n",
      "8182/8182 [==============================] - 5s 558us/step - loss: 0.9089 - categorical_accuracy: 0.7703 - val_loss: 0.8664 - val_categorical_accuracy: 0.8125\n",
      "Epoch 20/30\n",
      "8182/8182 [==============================] - 5s 570us/step - loss: 0.8954 - categorical_accuracy: 0.7730 - val_loss: 0.8529 - val_categorical_accuracy: 0.8125\n",
      "Epoch 21/30\n",
      "8182/8182 [==============================] - 5s 588us/step - loss: 0.8690 - categorical_accuracy: 0.7778 - val_loss: 0.8455 - val_categorical_accuracy: 0.8137\n",
      "Epoch 22/30\n",
      "8182/8182 [==============================] - 5s 594us/step - loss: 0.8580 - categorical_accuracy: 0.7788 - val_loss: 0.8390 - val_categorical_accuracy: 0.8162\n",
      "Epoch 23/30\n",
      "8182/8182 [==============================] - 5s 599us/step - loss: 0.8295 - categorical_accuracy: 0.7849 - val_loss: 0.8222 - val_categorical_accuracy: 0.8125\n",
      "Epoch 24/30\n",
      "8182/8182 [==============================] - 5s 585us/step - loss: 0.8070 - categorical_accuracy: 0.7890 - val_loss: 0.8139 - val_categorical_accuracy: 0.8150\n",
      "Epoch 25/30\n",
      "8182/8182 [==============================] - 6s 738us/step - loss: 0.7835 - categorical_accuracy: 0.7950 - val_loss: 0.8105 - val_categorical_accuracy: 0.8150\n",
      "Epoch 26/30\n",
      "8182/8182 [==============================] - 6s 725us/step - loss: 0.7763 - categorical_accuracy: 0.7964 - val_loss: 0.8082 - val_categorical_accuracy: 0.8163\n",
      "Epoch 27/30\n",
      "8182/8182 [==============================] - 6s 714us/step - loss: 0.7529 - categorical_accuracy: 0.8020 - val_loss: 0.7956 - val_categorical_accuracy: 0.8175\n",
      "Epoch 28/30\n",
      "8182/8182 [==============================] - 7s 909us/step - loss: 0.7387 - categorical_accuracy: 0.8040 - val_loss: 0.7899 - val_categorical_accuracy: 0.8162\n",
      "Epoch 29/30\n",
      "8182/8182 [==============================] - 6s 736us/step - loss: 0.7124 - categorical_accuracy: 0.8102 - val_loss: 0.7912 - val_categorical_accuracy: 0.8125\n",
      "Epoch 30/30\n",
      "8182/8182 [==============================] - 5s 597us/step - loss: 0.7215 - categorical_accuracy: 0.8075 - val_loss: 0.7908 - val_categorical_accuracy: 0.8137\n"
     ]
    }
   ],
   "source": [
    "from keras import optimizers\n",
    "from keras import losses\n",
    "from keras import metrics\n",
    "\n",
    "X_validation = x_train[:800]\n",
    "X_train_without_val = x_train[800:]\n",
    "y_validation = y_train[:800]\n",
    "y_train_without_val = y_train[800:]\n",
    "\n",
    "#model.compile(optimizer=optimizers.RMSprop(lr=0.001, rho=0.9),\n",
    "#model.compile(optimizer=optimizers.SGD(lr=0.01, momentum=0.9, decay=0.0, nesterov=False),  #Momentum\n",
    "#model.compile(optimizer=optimizers.SGD(lr=0.01, momentum=0.9, decay=0.0, nesterov=True),   #Nesterov\n",
    "#model.compile(optimizer=optimizers.Adagrad(lr=0.01, epsilon=None, decay=0.0),              #Adagrad\n",
    "model.compile(optimizers.Adam(lr=0.001, beta_1=0.9, beta_2=0.999, epsilon=None, decay=0.0, amsgrad=False), #Adam\n",
    "             loss=losses.categorical_crossentropy,\n",
    "             metrics=[metrics.categorical_accuracy])\n",
    "                           \n",
    "history = model.fit(X_train_without_val,\n",
    "                    y_train_without_val,\n",
    "                    epochs=30,\n",
    "                    batch_size=512,\n",
    "                    validation_data=(X_validation,y_validation))\n"
   ]
  },
  {
   "cell_type": "code",
   "execution_count": 9,
   "metadata": {},
   "outputs": [
    {
     "data": {
      "image/png": "[encoded data removed]",
      "text/plain": [
       "<Figure size 432x288 with 1 Axes>"
      ]
     },
     "metadata": {
      "needs_background": "light"
     },
     "output_type": "display_data"
    }
   ],
   "source": [
    "import matplotlib.pyplot as plt\n",
    "\n",
    "history_dict = history.history\n",
    "loss_values = history_dict['loss']\n",
    "val_loss_values = history_dict['val_loss']\n",
    "\n",
    "epochs = range(1, len(loss_values) + 1)\n",
    "\n",
    "plt.plot(epochs, loss_values, 'g--', label='Training loss')\n",
    "plt.plot(epochs, val_loss_values, 'r', label='Validation loss')\n",
    "plt.title('Training and validation loss')\n",
    "plt.xlabel('Epochs')\n",
    "plt.ylabel('Loss')\n",
    "plt.legend()\n",
    "\n",
    "plt.show()\n"
   ]
  },
  {
   "cell_type": "code",
   "execution_count": 8,
   "metadata": {},
   "outputs": [
    {
     "data": {
      "image/png": "[encoded data removed]",
      "text/plain": [
       "<Figure size 432x288 with 1 Axes>"
      ]
     },
     "metadata": {
      "needs_background": "light"
     },
     "output_type": "display_data"
    }
   ],
   "source": [
    "plt.clf()\n",
    "acc_values = history_dict['categorical_accuracy']\n",
    "val_acc_values = history_dict['val_categorical_accuracy']\n",
    "plt.plot(epochs, acc_values, 'g--', label='Training Accuracy')\n",
    "plt.plot(epochs, val_acc_values, 'r', label='Validation Accuracy')\n",
    "plt.title('Training and validation accuracy')\n",
    "plt.xlabel('Epochs')\n",
    "plt.ylabel('Accuracy')\n",
    "plt.legend()\n",
    "plt.show()"
   ]
  },
  {
   "cell_type": "code",
   "execution_count": null,
   "metadata": {},
   "outputs": [],
   "source": []
  },
  {
   "cell_type": "code",
   "execution_count": null,
   "metadata": {},
   "outputs": [],
   "source": []
  }
 ],
 "metadata": {
  "kernelspec": {
   "display_name": "Python 3",
   "language": "python",
   "name": "python3"
  },
  "language_info": {
   "codemirror_mode": {
    "name": "ipython",
    "version": 3
   },
   "file_extension": ".py",
   "mimetype": "text/x-python",
   "name": "python",
   "nbconvert_exporter": "python",
   "pygments_lexer": "ipython3",
   "version": "3.7.3"
  }
 },
 "nbformat": 4,
 "nbformat_minor": 2
}
