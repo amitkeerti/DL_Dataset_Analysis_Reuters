{
 "cells": [
  {
   "cell_type": "code",
   "execution_count": 1,
   "metadata": {},
   "outputs": [],
   "source": [
    "import tensorflow as tf\n",
    "import numpy as np"
   ]
  },
  {
   "cell_type": "code",
   "execution_count": 2,
   "metadata": {},
   "outputs": [
    {
     "name": "stderr",
     "output_type": "stream",
     "text": [
      "Using TensorFlow backend.\n"
     ]
    }
   ],
   "source": [
    "from keras.datasets import reuters"
   ]
  },
  {
   "cell_type": "code",
   "execution_count": 3,
   "metadata": {},
   "outputs": [
    {
     "name": "stdout",
     "output_type": "stream",
     "text": [
      "[1, 2, 2, 8, 43, 10, 447, 5, 25, 207, 270, 5, 3095, 111, 16, 369, 186, 90, 67, 7, 89, 5, 19, 102, 6, 19, 124, 15, 90, 67, 84, 22, 482, 26, 7, 48, 4, 49, 8, 864, 39, 209, 154, 6, 151, 6, 83, 11, 15, 22, 155, 11, 15, 7, 48, 9, 4579, 1005, 504, 6, 258, 6, 272, 11, 15, 22, 134, 44, 11, 15, 16, 8, 197, 1245, 90, 67, 52, 29, 209, 30, 32, 132, 6, 109, 15, 17, 12]\n",
      "8982\n",
      "2246\n"
     ]
    }
   ],
   "source": [
    "#(train_data, train_labels), (test_data, test_labels) = reuters.load_data(num_words=10000)\n",
    "\n",
    "#The above line of code does not seem to be working. So I had to do the below code to load the Reuters data.\n",
    "\n",
    "# save np.load\n",
    "np_load_old = np.load\n",
    "\n",
    "# modify the default parameters of np.load\n",
    "np.load = lambda *a,**k: np_load_old(*a, allow_pickle=True, **k)\n",
    "\n",
    "# call load_data with allow_pickle implicitly set to true\n",
    "(train_X, train_Y), (test_X, test_Y) = reuters.load_data(num_words=10000)\n",
    "\n",
    "# restore np.load for future normal usage\n",
    "np.load = np_load_old\n",
    "\n",
    "print(train_X[0])\n",
    "\n",
    "print(len(train_X))\n",
    "print(len(test_Y))"
   ]
  },
  {
   "cell_type": "code",
   "execution_count": 4,
   "metadata": {},
   "outputs": [],
   "source": [
    "#Each review (row) is of different size. This data needs to be made uniform. \n",
    "# i.e. each reviuew (i.e. row) needs to be onehotencoded to a length of 10,000 (we have decided to have only 10000 features)\n",
    "import numpy as np\n",
    "from keras.utils.np_utils import to_categorical\n",
    "\n",
    "def OneHotEncoding_fn(ReutersData, dimension=10000):\n",
    "    # 8982 x 10k matrix of zeros\n",
    "    OneHotEncoded_Data = np.zeros((len(ReutersData), dimension))\n",
    "    for i, sequence in enumerate(ReutersData):\n",
    "        #Selectively make indices as 1 based on availability of word in the review.\n",
    "        OneHotEncoded_Data[i, sequence] = 1.\n",
    "    return OneHotEncoded_Data\n",
    "\n",
    "x_train = OneHotEncoding_fn(train_X)\n",
    "x_test = OneHotEncoding_fn(test_X)\n",
    "\n",
    "y_train = to_categorical(train_Y)\n",
    "y_test = to_categorical(test_Y)\n"
   ]
  },
  {
   "cell_type": "code",
   "execution_count": 5,
   "metadata": {},
   "outputs": [
    {
     "name": "stdout",
     "output_type": "stream",
     "text": [
      "WARNING:tensorflow:From C:\\ProgramData\\Anaconda3\\envs\\tensorflow_env\\lib\\site-packages\\tensorflow\\python\\ops\\control_flow_ops.py:423: colocate_with (from tensorflow.python.framework.ops) is deprecated and will be removed in a future version.\n",
      "Instructions for updating:\n",
      "Colocations handled automatically by placer.\n",
      "WARNING:tensorflow:From C:\\ProgramData\\Anaconda3\\envs\\tensorflow_env\\lib\\site-packages\\keras\\backend\\tensorflow_backend.py:3445: calling dropout (from tensorflow.python.ops.nn_ops) with keep_prob is deprecated and will be removed in a future version.\n",
      "Instructions for updating:\n",
      "Please use `rate` instead of `keep_prob`. Rate should be set to `rate = 1 - keep_prob`.\n"
     ]
    }
   ],
   "source": [
    "#create the layers\n",
    "from keras import models\n",
    "from keras import layers\n",
    "from keras import regularizers\n",
    "\n",
    "model = models.Sequential()\n",
    "\n",
    "#I/P Layer\n",
    "model.add(layers.Dropout(0.70, input_shape=(10000,)))\n",
    "model.add(layers.Dense(128, activation='relu'))       #I/P Layer with 128 Neurons\n",
    "#model.add(layers.Dense(128, input_shape=(10000,), kernel_regularizer=regularizers.l1_l2(l1=0.001, l2=0.01), activation='relu'))\n",
    "\n",
    "#1st hidden layer\n",
    "model.add(layers.Dropout(0.70))\n",
    "model.add(layers.Dense(128, activation='relu'))        #Hidden Layer with 128 Neurons\n",
    "#model.add(layers.Dense(128, kernel_regularizer=regularizers.l1_l2(l1=0.001, l2=0.001), activation='relu'))\n",
    "\n",
    "#model.add(layers.Dropout(0.4))\n",
    "model.add(layers.Dense(46, activation='softmax'))"
   ]
  },
  {
   "cell_type": "code",
   "execution_count": 6,
   "metadata": {},
   "outputs": [
    {
     "name": "stdout",
     "output_type": "stream",
     "text": [
      "WARNING:tensorflow:From C:\\ProgramData\\Anaconda3\\envs\\tensorflow_env\\lib\\site-packages\\tensorflow\\python\\ops\\math_ops.py:3066: to_int32 (from tensorflow.python.ops.math_ops) is deprecated and will be removed in a future version.\n",
      "Instructions for updating:\n",
      "Use tf.cast instead.\n",
      "Train on 8182 samples, validate on 800 samples\n",
      "Epoch 1/50\n",
      "8182/8182 [==============================] - 5s 599us/step - loss: 3.3090 - categorical_accuracy: 0.3005 - val_loss: 2.4567 - val_categorical_accuracy: 0.5387\n",
      "Epoch 2/50\n",
      "8182/8182 [==============================] - 4s 429us/step - loss: 2.2722 - categorical_accuracy: 0.4837 - val_loss: 1.7400 - val_categorical_accuracy: 0.6037\n",
      "Epoch 3/50\n",
      "8182/8182 [==============================] - 3s 424us/step - loss: 1.8712 - categorical_accuracy: 0.5485 - val_loss: 1.5473 - val_categorical_accuracy: 0.6425\n",
      "Epoch 4/50\n",
      "8182/8182 [==============================] - 3s 420us/step - loss: 1.7428 - categorical_accuracy: 0.5898 - val_loss: 1.4365 - val_categorical_accuracy: 0.6788\n",
      "Epoch 5/50\n",
      "8182/8182 [==============================] - 4s 430us/step - loss: 1.6313 - categorical_accuracy: 0.6193 - val_loss: 1.3438 - val_categorical_accuracy: 0.6962\n",
      "Epoch 6/50\n",
      "8182/8182 [==============================] - 4s 429us/step - loss: 1.5305 - categorical_accuracy: 0.6424 - val_loss: 1.2742 - val_categorical_accuracy: 0.7063\n",
      "Epoch 7/50\n",
      "8182/8182 [==============================] - 4s 431us/step - loss: 1.4649 - categorical_accuracy: 0.6583 - val_loss: 1.2247 - val_categorical_accuracy: 0.7138\n",
      "Epoch 8/50\n",
      "8182/8182 [==============================] - 3s 425us/step - loss: 1.3972 - categorical_accuracy: 0.6677 - val_loss: 1.1765 - val_categorical_accuracy: 0.7375\n",
      "Epoch 9/50\n",
      "8182/8182 [==============================] - 4s 432us/step - loss: 1.3471 - categorical_accuracy: 0.6759 - val_loss: 1.1287 - val_categorical_accuracy: 0.7500\n",
      "Epoch 10/50\n",
      "8182/8182 [==============================] - 4s 431us/step - loss: 1.3025 - categorical_accuracy: 0.6890 - val_loss: 1.0900 - val_categorical_accuracy: 0.7625\n",
      "Epoch 11/50\n",
      "8182/8182 [==============================] - 4s 444us/step - loss: 1.2494 - categorical_accuracy: 0.7046 - val_loss: 1.0532 - val_categorical_accuracy: 0.7675\n",
      "Epoch 12/50\n",
      "8182/8182 [==============================] - 4s 437us/step - loss: 1.2120 - categorical_accuracy: 0.7015 - val_loss: 1.0242 - val_categorical_accuracy: 0.7850\n",
      "Epoch 13/50\n",
      "8182/8182 [==============================] - 4s 430us/step - loss: 1.1616 - categorical_accuracy: 0.7183 - val_loss: 1.0035 - val_categorical_accuracy: 0.7875\n",
      "Epoch 14/50\n",
      "8182/8182 [==============================] - 4s 445us/step - loss: 1.1348 - categorical_accuracy: 0.7242 - val_loss: 0.9765 - val_categorical_accuracy: 0.7937\n",
      "Epoch 15/50\n",
      "8182/8182 [==============================] - 3s 421us/step - loss: 1.1023 - categorical_accuracy: 0.7299 - val_loss: 0.9615 - val_categorical_accuracy: 0.7988\n",
      "Epoch 16/50\n",
      "8182/8182 [==============================] - 3s 408us/step - loss: 1.0751 - categorical_accuracy: 0.7327 - val_loss: 0.9447 - val_categorical_accuracy: 0.8025\n",
      "Epoch 17/50\n",
      "8182/8182 [==============================] - 3s 397us/step - loss: 1.0342 - categorical_accuracy: 0.7440 - val_loss: 0.9324 - val_categorical_accuracy: 0.8100\n",
      "Epoch 18/50\n",
      "8182/8182 [==============================] - 3s 392us/step - loss: 1.0343 - categorical_accuracy: 0.7444 - val_loss: 0.9216 - val_categorical_accuracy: 0.8075\n",
      "Epoch 19/50\n",
      "8182/8182 [==============================] - 4s 501us/step - loss: 0.9958 - categorical_accuracy: 0.7529 - val_loss: 0.9142 - val_categorical_accuracy: 0.8087\n",
      "Epoch 20/50\n",
      "8182/8182 [==============================] - 3s 400us/step - loss: 0.9791 - categorical_accuracy: 0.7507 - val_loss: 0.8994 - val_categorical_accuracy: 0.8112\n",
      "Epoch 21/50\n",
      "8182/8182 [==============================] - 3s 398us/step - loss: 0.9502 - categorical_accuracy: 0.7551 - val_loss: 0.8972 - val_categorical_accuracy: 0.8050\n",
      "Epoch 22/50\n",
      "8182/8182 [==============================] - 3s 397us/step - loss: 0.9445 - categorical_accuracy: 0.7613 - val_loss: 0.8791 - val_categorical_accuracy: 0.8113\n",
      "Epoch 23/50\n",
      "8182/8182 [==============================] - 3s 404us/step - loss: 0.9170 - categorical_accuracy: 0.7642 - val_loss: 0.8671 - val_categorical_accuracy: 0.8112\n",
      "Epoch 24/50\n",
      "8182/8182 [==============================] - 3s 394us/step - loss: 0.9008 - categorical_accuracy: 0.7692 - val_loss: 0.8656 - val_categorical_accuracy: 0.8062\n",
      "Epoch 25/50\n",
      "8182/8182 [==============================] - 3s 394us/step - loss: 0.8796 - categorical_accuracy: 0.7773 - val_loss: 0.8543 - val_categorical_accuracy: 0.8125\n",
      "Epoch 26/50\n",
      "8182/8182 [==============================] - 3s 400us/step - loss: 0.8684 - categorical_accuracy: 0.7757 - val_loss: 0.8539 - val_categorical_accuracy: 0.8100\n",
      "Epoch 27/50\n",
      "8182/8182 [==============================] - 3s 396us/step - loss: 0.8573 - categorical_accuracy: 0.7801 - val_loss: 0.8430 - val_categorical_accuracy: 0.8125\n",
      "Epoch 28/50\n",
      "8182/8182 [==============================] - 3s 401us/step - loss: 0.8269 - categorical_accuracy: 0.7837 - val_loss: 0.8321 - val_categorical_accuracy: 0.8175\n",
      "Epoch 29/50\n",
      "8182/8182 [==============================] - 3s 407us/step - loss: 0.8216 - categorical_accuracy: 0.7828 - val_loss: 0.8356 - val_categorical_accuracy: 0.8112\n",
      "Epoch 30/50\n",
      "8182/8182 [==============================] - 3s 404us/step - loss: 0.8098 - categorical_accuracy: 0.7848 - val_loss: 0.8278 - val_categorical_accuracy: 0.8250\n",
      "Epoch 31/50\n",
      "8182/8182 [==============================] - 3s 397us/step - loss: 0.8069 - categorical_accuracy: 0.7862 - val_loss: 0.8277 - val_categorical_accuracy: 0.8125\n",
      "Epoch 32/50\n",
      "8182/8182 [==============================] - 3s 401us/step - loss: 0.7920 - categorical_accuracy: 0.7912 - val_loss: 0.8214 - val_categorical_accuracy: 0.8225\n",
      "Epoch 33/50\n",
      "8182/8182 [==============================] - 3s 401us/step - loss: 0.7961 - categorical_accuracy: 0.7889 - val_loss: 0.8248 - val_categorical_accuracy: 0.8188\n",
      "Epoch 34/50\n",
      "8182/8182 [==============================] - 3s 397us/step - loss: 0.7646 - categorical_accuracy: 0.7952 - val_loss: 0.8097 - val_categorical_accuracy: 0.8225\n",
      "Epoch 35/50\n",
      "8182/8182 [==============================] - 3s 396us/step - loss: 0.7573 - categorical_accuracy: 0.7972 - val_loss: 0.8147 - val_categorical_accuracy: 0.8238\n",
      "Epoch 36/50\n",
      "8182/8182 [==============================] - 3s 397us/step - loss: 0.7438 - categorical_accuracy: 0.7965 - val_loss: 0.8096 - val_categorical_accuracy: 0.8275\n",
      "Epoch 37/50\n",
      "8182/8182 [==============================] - 3s 417us/step - loss: 0.7543 - categorical_accuracy: 0.7983 - val_loss: 0.8101 - val_categorical_accuracy: 0.8225\n",
      "Epoch 38/50\n",
      "8182/8182 [==============================] - 3s 408us/step - loss: 0.7256 - categorical_accuracy: 0.8014 - val_loss: 0.8161 - val_categorical_accuracy: 0.8175\n",
      "Epoch 39/50\n",
      "8182/8182 [==============================] - 3s 404us/step - loss: 0.7288 - categorical_accuracy: 0.8051 - val_loss: 0.8068 - val_categorical_accuracy: 0.8250\n",
      "Epoch 40/50\n",
      "8182/8182 [==============================] - 3s 399us/step - loss: 0.7312 - categorical_accuracy: 0.8018 - val_loss: 0.7996 - val_categorical_accuracy: 0.8225\n",
      "Epoch 41/50\n",
      "8182/8182 [==============================] - 3s 394us/step - loss: 0.7333 - categorical_accuracy: 0.7994 - val_loss: 0.8038 - val_categorical_accuracy: 0.8275\n",
      "Epoch 42/50\n",
      "8182/8182 [==============================] - 3s 401us/step - loss: 0.6945 - categorical_accuracy: 0.8106 - val_loss: 0.8045 - val_categorical_accuracy: 0.8237\n",
      "Epoch 43/50\n",
      "8182/8182 [==============================] - 3s 394us/step - loss: 0.6846 - categorical_accuracy: 0.8106 - val_loss: 0.8023 - val_categorical_accuracy: 0.8288\n",
      "Epoch 44/50\n",
      "8182/8182 [==============================] - 3s 396us/step - loss: 0.6872 - categorical_accuracy: 0.8109 - val_loss: 0.8051 - val_categorical_accuracy: 0.8238\n",
      "Epoch 45/50\n",
      "8182/8182 [==============================] - 3s 392us/step - loss: 0.6946 - categorical_accuracy: 0.8060 - val_loss: 0.8027 - val_categorical_accuracy: 0.8300\n",
      "Epoch 46/50\n",
      "8182/8182 [==============================] - 3s 397us/step - loss: 0.6682 - categorical_accuracy: 0.8115 - val_loss: 0.8030 - val_categorical_accuracy: 0.8200\n",
      "Epoch 47/50\n"
     ]
    },
    {
     "name": "stdout",
     "output_type": "stream",
     "text": [
      "8182/8182 [==============================] - 3s 395us/step - loss: 0.6972 - categorical_accuracy: 0.8093 - val_loss: 0.8008 - val_categorical_accuracy: 0.8225\n",
      "Epoch 48/50\n",
      "8182/8182 [==============================] - 3s 415us/step - loss: 0.6538 - categorical_accuracy: 0.8209 - val_loss: 0.8009 - val_categorical_accuracy: 0.8187\n",
      "Epoch 49/50\n",
      "8182/8182 [==============================] - 3s 396us/step - loss: 0.6679 - categorical_accuracy: 0.8141 - val_loss: 0.8037 - val_categorical_accuracy: 0.8250\n",
      "Epoch 50/50\n",
      "8182/8182 [==============================] - 3s 396us/step - loss: 0.6523 - categorical_accuracy: 0.8195 - val_loss: 0.7968 - val_categorical_accuracy: 0.8250\n"
     ]
    }
   ],
   "source": [
    "from keras import optimizers\n",
    "from keras import losses\n",
    "from keras import metrics\n",
    "\n",
    "X_validation = x_train[:800]\n",
    "X_train_without_val = x_train[800:]\n",
    "y_validation = y_train[:800]\n",
    "y_train_without_val = y_train[800:]\n",
    "\n",
    "#model.compile(optimizer=optimizers.RMSprop(lr=0.001, rho=0.9),\n",
    "#model.compile(optimizer=optimizers.SGD(lr=0.01, momentum=0.9, decay=0.0, nesterov=False),  #Momentum\n",
    "#model.compile(optimizer=optimizers.SGD(lr=0.01, momentum=0.9, decay=0.0, nesterov=True),   #Nesterov\n",
    "#model.compile(optimizer=optimizers.Adagrad(lr=0.01, epsilon=None, decay=0.0),              #Adagrad\n",
    "model.compile(optimizers.Adam(lr=0.001, beta_1=0.9, beta_2=0.999, epsilon=None, decay=0.0, amsgrad=False), #Adam\n",
    "             loss=losses.categorical_crossentropy,\n",
    "             metrics=[metrics.categorical_accuracy])\n",
    "                           \n",
    "history = model.fit(X_train_without_val,\n",
    "                    y_train_without_val,\n",
    "                    epochs=50,\n",
    "                    batch_size=512,\n",
    "                    validation_data=(X_validation,y_validation))\n"
   ]
  },
  {
   "cell_type": "code",
   "execution_count": 9,
   "metadata": {},
   "outputs": [
    {
     "data": {
      "image/png": "[encoded data removed]",
      "text/plain": [
       "<Figure size 432x288 with 1 Axes>"
      ]
     },
     "metadata": {
      "needs_background": "light"
     },
     "output_type": "display_data"
    }
   ],
   "source": [
    "import matplotlib.pyplot as plt\n",
    "\n",
    "history_dict = history.history\n",
    "loss_values = history_dict['loss']\n",
    "val_loss_values = history_dict['val_loss']\n",
    "\n",
    "epochs = range(1, len(loss_values) + 1)\n",
    "\n",
    "plt.plot(epochs, loss_values, 'g--', label='Training loss')\n",
    "plt.plot(epochs, val_loss_values, 'r', label='Validation loss')\n",
    "plt.title('Training and validation loss')\n",
    "plt.xlabel('Epochs')\n",
    "plt.ylabel('Loss')\n",
    "plt.legend()\n",
    "\n",
    "plt.show()\n"
   ]
  },
  {
   "cell_type": "code",
   "execution_count": 8,
   "metadata": {},
   "outputs": [
    {
     "data": {
      "image/png": "[encoded data removed]",
      "text/plain": [
       "<Figure size 432x288 with 1 Axes>"
      ]
     },
     "metadata": {
      "needs_background": "light"
     },
     "output_type": "display_data"
    }
   ],
   "source": [
    "plt.clf()\n",
    "acc_values = history_dict['categorical_accuracy']\n",
    "val_acc_values = history_dict['val_categorical_accuracy']\n",
    "plt.plot(epochs, acc_values, 'g--', label='Training Accuracy')\n",
    "plt.plot(epochs, val_acc_values, 'r', label='Validation Accuracy')\n",
    "plt.title('Training and validation accuracy')\n",
    "plt.xlabel('Epochs')\n",
    "plt.ylabel('Accuracy')\n",
    "plt.legend()\n",
    "plt.show()"
   ]
  },
  {
   "cell_type": "code",
   "execution_count": null,
   "metadata": {},
   "outputs": [],
   "source": []
  }
 ],
 "metadata": {
  "kernelspec": {
   "display_name": "Python 3",
   "language": "python",
   "name": "python3"
  },
  "language_info": {
   "codemirror_mode": {
    "name": "ipython",
    "version": 3
   },
   "file_extension": ".py",
   "mimetype": "text/x-python",
   "name": "python",
   "nbconvert_exporter": "python",
   "pygments_lexer": "ipython3",
   "version": "3.7.3"
  }
 },
 "nbformat": 4,
 "nbformat_minor": 2
}
