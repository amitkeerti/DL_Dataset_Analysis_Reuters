{
 "cells": [
  {
   "cell_type": "code",
   "execution_count": 1,
   "metadata": {},
   "outputs": [],
   "source": [
    "import tensorflow as tf\n",
    "import numpy as np"
   ]
  },
  {
   "cell_type": "code",
   "execution_count": 2,
   "metadata": {},
   "outputs": [
    {
     "name": "stderr",
     "output_type": "stream",
     "text": [
      "Using TensorFlow backend.\n"
     ]
    }
   ],
   "source": [
    "from keras.datasets import reuters"
   ]
  },
  {
   "cell_type": "code",
   "execution_count": 3,
   "metadata": {},
   "outputs": [
    {
     "name": "stdout",
     "output_type": "stream",
     "text": [
      "[1, 2, 2, 8, 43, 10, 447, 5, 25, 207, 270, 5, 3095, 111, 16, 369, 186, 90, 67, 7, 89, 5, 19, 102, 6, 19, 124, 15, 90, 67, 84, 22, 482, 26, 7, 48, 4, 49, 8, 864, 39, 209, 154, 6, 151, 6, 83, 11, 15, 22, 155, 11, 15, 7, 48, 9, 4579, 1005, 504, 6, 258, 6, 272, 11, 15, 22, 134, 44, 11, 15, 16, 8, 197, 1245, 90, 67, 52, 29, 209, 30, 32, 132, 6, 109, 15, 17, 12]\n"
     ]
    }
   ],
   "source": [
    "#(train_data, train_labels), (test_data, test_labels) = reuters.load_data(num_words=10000)\n",
    "\n",
    "#The above line of code does not seem to be working. So I had to do the below code to load the Reuters data.\n",
    "\n",
    "# save np.load\n",
    "np_load_old = np.load\n",
    "\n",
    "# modify the default parameters of np.load\n",
    "np.load = lambda *a,**k: np_load_old(*a, allow_pickle=True, **k)\n",
    "\n",
    "# call load_data with allow_pickle implicitly set to true\n",
    "(train_X, train_Y), (test_X, test_Y) = reuters.load_data(num_words=10000)\n",
    "\n",
    "# restore np.load for future normal usage\n",
    "np.load = np_load_old\n",
    "\n",
    "print(train_X[0])"
   ]
  },
  {
   "cell_type": "code",
   "execution_count": 4,
   "metadata": {},
   "outputs": [],
   "source": [
    "#Each review (row) is of different size. This data needs to be made uniform. \n",
    "# i.e. each reviuew (i.e. row) needs to be onehotencoded to a length of 10,000 (we have decided to have only 10000 features)\n",
    "import numpy as np\n",
    "from keras.utils.np_utils import to_categorical\n",
    "\n",
    "def OneHotEncoding_fn(ReutersData, dimension=10000):\n",
    "    # 8982 x 10k matrix of zeros\n",
    "    OneHotEncoded_Data = np.zeros((len(ReutersData), dimension))\n",
    "    for i, sequence in enumerate(ReutersData):\n",
    "        #Selectively make indices as 1 based on availability of word in the review.\n",
    "        OneHotEncoded_Data[i, sequence] = 1.\n",
    "    return OneHotEncoded_Data\n",
    "\n",
    "x_train = OneHotEncoding_fn(train_X)\n",
    "x_test = OneHotEncoding_fn(test_X)\n",
    "\n",
    "y_train = to_categorical(train_Y)\n",
    "y_test = to_categorical(test_Y)\n"
   ]
  },
  {
   "cell_type": "code",
   "execution_count": 5,
   "metadata": {},
   "outputs": [
    {
     "name": "stdout",
     "output_type": "stream",
     "text": [
      "WARNING:tensorflow:From C:\\ProgramData\\Anaconda3\\envs\\tensorflow_env\\lib\\site-packages\\tensorflow\\python\\ops\\control_flow_ops.py:423: colocate_with (from tensorflow.python.framework.ops) is deprecated and will be removed in a future version.\n",
      "Instructions for updating:\n",
      "Colocations handled automatically by placer.\n",
      "WARNING:tensorflow:From C:\\ProgramData\\Anaconda3\\envs\\tensorflow_env\\lib\\site-packages\\keras\\backend\\tensorflow_backend.py:3445: calling dropout (from tensorflow.python.ops.nn_ops) with keep_prob is deprecated and will be removed in a future version.\n",
      "Instructions for updating:\n",
      "Please use `rate` instead of `keep_prob`. Rate should be set to `rate = 1 - keep_prob`.\n"
     ]
    }
   ],
   "source": [
    "#create the layers\n",
    "from keras import models\n",
    "from keras import layers\n",
    "from keras import regularizers\n",
    "from keras.layers import Activation\n",
    "\n",
    "model = models.Sequential()\n",
    "\n",
    "#I/P Layer\n",
    "model.add(layers.Dropout(0.67, input_shape=(10000,)))\n",
    "model.add(layers.Dense(128, kernel_initializer='he_uniform'))\n",
    "model.add(layers.ReLU())\n",
    "\n",
    "\n",
    "#1st hidden layer\n",
    "model.add(layers.Dropout(0.67))\n",
    "model.add(layers.Dense(128, kernel_initializer='he_uniform'))\n",
    "model.add(layers.ReLU())\n",
    "\n",
    "#model.add(layers.Dropout(0.4))\n",
    "model.add(layers.Dense(46, activation='softmax'))"
   ]
  },
  {
   "cell_type": "code",
   "execution_count": 6,
   "metadata": {},
   "outputs": [
    {
     "name": "stdout",
     "output_type": "stream",
     "text": [
      "WARNING:tensorflow:From C:\\ProgramData\\Anaconda3\\envs\\tensorflow_env\\lib\\site-packages\\tensorflow\\python\\ops\\math_ops.py:3066: to_int32 (from tensorflow.python.ops.math_ops) is deprecated and will be removed in a future version.\n",
      "Instructions for updating:\n",
      "Use tf.cast instead.\n",
      "Train on 8182 samples, validate on 800 samples\n",
      "Epoch 1/30\n",
      "8182/8182 [==============================] - 7s 872us/step - loss: 3.2113 - categorical_accuracy: 0.3123 - val_loss: 2.2954 - val_categorical_accuracy: 0.5412\n",
      "Epoch 2/30\n",
      "8182/8182 [==============================] - 4s 489us/step - loss: 2.1695 - categorical_accuracy: 0.5061 - val_loss: 1.6835 - val_categorical_accuracy: 0.6200\n",
      "Epoch 3/30\n",
      "8182/8182 [==============================] - 4s 478us/step - loss: 1.8022 - categorical_accuracy: 0.5698 - val_loss: 1.4929 - val_categorical_accuracy: 0.6625\n",
      "Epoch 4/30\n",
      "8182/8182 [==============================] - 4s 442us/step - loss: 1.6703 - categorical_accuracy: 0.6127 - val_loss: 1.3831 - val_categorical_accuracy: 0.6850\n",
      "Epoch 5/30\n",
      "8182/8182 [==============================] - 4s 444us/step - loss: 1.5446 - categorical_accuracy: 0.6402 - val_loss: 1.2794 - val_categorical_accuracy: 0.7100\n",
      "Epoch 6/30\n",
      "8182/8182 [==============================] - 4s 447us/step - loss: 1.4468 - categorical_accuracy: 0.6595 - val_loss: 1.2072 - val_categorical_accuracy: 0.7300\n",
      "Epoch 7/30\n",
      "8182/8182 [==============================] - 4s 442us/step - loss: 1.3798 - categorical_accuracy: 0.6766 - val_loss: 1.1583 - val_categorical_accuracy: 0.7450\n",
      "Epoch 8/30\n",
      "8182/8182 [==============================] - 4s 449us/step - loss: 1.3060 - categorical_accuracy: 0.6912 - val_loss: 1.1056 - val_categorical_accuracy: 0.7550\n",
      "Epoch 9/30\n",
      "8182/8182 [==============================] - 4s 438us/step - loss: 1.2520 - categorical_accuracy: 0.6971 - val_loss: 1.0594 - val_categorical_accuracy: 0.7763\n",
      "Epoch 10/30\n",
      "8182/8182 [==============================] - 4s 451us/step - loss: 1.1980 - categorical_accuracy: 0.7125 - val_loss: 1.0197 - val_categorical_accuracy: 0.7862\n",
      "Epoch 11/30\n",
      "8182/8182 [==============================] - 4s 445us/step - loss: 1.1492 - categorical_accuracy: 0.7238 - val_loss: 0.9871 - val_categorical_accuracy: 0.8025\n",
      "Epoch 12/30\n",
      "8182/8182 [==============================] - 4s 483us/step - loss: 1.1073 - categorical_accuracy: 0.7310 - val_loss: 0.9619 - val_categorical_accuracy: 0.8062\n",
      "Epoch 13/30\n",
      "8182/8182 [==============================] - 4s 445us/step - loss: 1.0474 - categorical_accuracy: 0.7455 - val_loss: 0.9429 - val_categorical_accuracy: 0.8050\n",
      "Epoch 14/30\n",
      "8182/8182 [==============================] - 4s 439us/step - loss: 1.0242 - categorical_accuracy: 0.7475 - val_loss: 0.9168 - val_categorical_accuracy: 0.8088\n",
      "Epoch 15/30\n",
      "8182/8182 [==============================] - 4s 463us/step - loss: 0.9881 - categorical_accuracy: 0.7578 - val_loss: 0.9037 - val_categorical_accuracy: 0.8137\n",
      "Epoch 16/30\n",
      "8182/8182 [==============================] - 4s 460us/step - loss: 0.9527 - categorical_accuracy: 0.7600 - val_loss: 0.8894 - val_categorical_accuracy: 0.8100\n",
      "Epoch 17/30\n",
      "8182/8182 [==============================] - 4s 440us/step - loss: 0.9075 - categorical_accuracy: 0.7750 - val_loss: 0.8812 - val_categorical_accuracy: 0.8113\n",
      "Epoch 18/30\n",
      "8182/8182 [==============================] - 4s 464us/step - loss: 0.9043 - categorical_accuracy: 0.7762 - val_loss: 0.8641 - val_categorical_accuracy: 0.8175\n",
      "Epoch 19/30\n",
      "8182/8182 [==============================] - 4s 435us/step - loss: 0.8523 - categorical_accuracy: 0.7816 - val_loss: 0.8604 - val_categorical_accuracy: 0.8150\n",
      "Epoch 20/30\n",
      "8182/8182 [==============================] - 4s 438us/step - loss: 0.8437 - categorical_accuracy: 0.7848 - val_loss: 0.8514 - val_categorical_accuracy: 0.8187\n",
      "Epoch 21/30\n",
      "8182/8182 [==============================] - 4s 438us/step - loss: 0.8171 - categorical_accuracy: 0.7879 - val_loss: 0.8489 - val_categorical_accuracy: 0.8137\n",
      "Epoch 22/30\n",
      "8182/8182 [==============================] - 4s 434us/step - loss: 0.8062 - categorical_accuracy: 0.7955 - val_loss: 0.8324 - val_categorical_accuracy: 0.8200\n",
      "Epoch 23/30\n",
      "8182/8182 [==============================] - 4s 459us/step - loss: 0.7752 - categorical_accuracy: 0.7952 - val_loss: 0.8288 - val_categorical_accuracy: 0.8213\n",
      "Epoch 24/30\n",
      "8182/8182 [==============================] - 4s 482us/step - loss: 0.7535 - categorical_accuracy: 0.8051 - val_loss: 0.8266 - val_categorical_accuracy: 0.8163\n",
      "Epoch 25/30\n",
      "8182/8182 [==============================] - 4s 443us/step - loss: 0.7336 - categorical_accuracy: 0.8058 - val_loss: 0.8217 - val_categorical_accuracy: 0.8175\n",
      "Epoch 26/30\n",
      "8182/8182 [==============================] - 4s 448us/step - loss: 0.7278 - categorical_accuracy: 0.8076 - val_loss: 0.8207 - val_categorical_accuracy: 0.8263\n",
      "Epoch 27/30\n",
      "8182/8182 [==============================] - 4s 434us/step - loss: 0.7042 - categorical_accuracy: 0.8176 - val_loss: 0.8105 - val_categorical_accuracy: 0.8225\n",
      "Epoch 28/30\n",
      "8182/8182 [==============================] - 4s 435us/step - loss: 0.6838 - categorical_accuracy: 0.8150 - val_loss: 0.8145 - val_categorical_accuracy: 0.8313\n",
      "Epoch 29/30\n",
      "8182/8182 [==============================] - 4s 442us/step - loss: 0.6766 - categorical_accuracy: 0.8184 - val_loss: 0.8108 - val_categorical_accuracy: 0.8225\n",
      "Epoch 30/30\n",
      "8182/8182 [==============================] - 4s 449us/step - loss: 0.6698 - categorical_accuracy: 0.8175 - val_loss: 0.8081 - val_categorical_accuracy: 0.8363\n"
     ]
    }
   ],
   "source": [
    "from keras import optimizers\n",
    "from keras import losses\n",
    "from keras import metrics\n",
    "\n",
    "X_validation = x_train[:800]\n",
    "X_train_without_val = x_train[800:]\n",
    "y_validation = y_train[:800]\n",
    "y_train_without_val = y_train[800:]\n",
    "\n",
    "#model.compile(optimizer=optimizers.RMSprop(lr=0.001, rho=0.9),\n",
    "#model.compile(optimizer=optimizers.SGD(lr=0.01, momentum=0.9, decay=0.0, nesterov=False),  #Momentum\n",
    "#model.compile(optimizer=optimizers.SGD(lr=0.01, momentum=0.9, decay=0.0, nesterov=True),   #Nesterov\n",
    "#model.compile(optimizer=optimizers.Adagrad(lr=0.01, epsilon=None, decay=0.0),              #Adagrad\n",
    "model.compile(optimizers.Adam(lr=0.001, beta_1=0.9, beta_2=0.999, epsilon=None, decay=0.0, amsgrad=False), #Adam\n",
    "             loss=losses.categorical_crossentropy,\n",
    "             metrics=[metrics.categorical_accuracy])\n",
    "                           \n",
    "history = model.fit(X_train_without_val,\n",
    "                    y_train_without_val,\n",
    "                    epochs=30,\n",
    "                    batch_size=512,\n",
    "                    validation_data=(X_validation,y_validation))\n"
   ]
  },
  {
   "cell_type": "code",
   "execution_count": 10,
   "metadata": {},
   "outputs": [
    {
     "data": {
      "image/png": "[encoded data removed]",
      "text/plain": [
       "<Figure size 432x288 with 1 Axes>"
      ]
     },
     "metadata": {
      "needs_background": "light"
     },
     "output_type": "display_data"
    }
   ],
   "source": [
    "import matplotlib.pyplot as plt\n",
    "\n",
    "history_dict = history.history\n",
    "loss_values = history_dict['loss']\n",
    "val_loss_values = history_dict['val_loss']\n",
    "\n",
    "epochs = range(1, len(loss_values) + 1)\n",
    "\n",
    "plt.plot(epochs, loss_values, 'g--', label='Training loss')\n",
    "plt.plot(epochs, val_loss_values, 'r', label='Validation loss')\n",
    "plt.title('Training and validation loss')\n",
    "plt.xlabel('Epochs')\n",
    "plt.ylabel('Loss')\n",
    "plt.legend()\n",
    "\n",
    "plt.show()\n"
   ]
  },
  {
   "cell_type": "code",
   "execution_count": 8,
   "metadata": {},
   "outputs": [
    {
     "data": {
      "image/png": "[encoded data removed]",
      "text/plain": [
       "<Figure size 432x288 with 1 Axes>"
      ]
     },
     "metadata": {
      "needs_background": "light"
     },
     "output_type": "display_data"
    }
   ],
   "source": [
    "plt.clf()\n",
    "acc_values = history_dict['categorical_accuracy']\n",
    "val_acc_values = history_dict['val_categorical_accuracy']\n",
    "plt.plot(epochs, acc_values, 'g--', label='Training Accuracy')\n",
    "plt.plot(epochs, val_acc_values, 'r', label='Validation Accuracy')\n",
    "plt.title('Training and validation accuracy')\n",
    "plt.xlabel('Epochs')\n",
    "plt.ylabel('Accuracy')\n",
    "plt.legend()\n",
    "plt.show()"
   ]
  },
  {
   "cell_type": "code",
   "execution_count": 9,
   "metadata": {},
   "outputs": [
    {
     "name": "stdout",
     "output_type": "stream",
     "text": [
      "Accuracy Score : 0.8076580587711487\n"
     ]
    }
   ],
   "source": [
    "#Predict the output on the test data.\n",
    "# A 2D array comprising of 46 probability values (i.e. cols) for each test instance (i.e. rows).\n",
    "prediction_prob = model.predict(x_test)\n",
    "#List of the predicted y for all the instances in the test data\n",
    "pred_y = [np.argmax(prediction_prob[i]) for i in range(prediction_prob.shape[0])]\n",
    "\n",
    "from sklearn.metrics import accuracy_score\n",
    "print ('Accuracy Score :', accuracy_score(test_Y, pred_y))"
   ]
  },
  {
   "cell_type": "code",
   "execution_count": null,
   "metadata": {},
   "outputs": [],
   "source": []
  }
 ],
 "metadata": {
  "kernelspec": {
   "display_name": "Python 3",
   "language": "python",
   "name": "python3"
  },
  "language_info": {
   "codemirror_mode": {
    "name": "ipython",
    "version": 3
   },
   "file_extension": ".py",
   "mimetype": "text/x-python",
   "name": "python",
   "nbconvert_exporter": "python",
   "pygments_lexer": "ipython3",
   "version": "3.7.3"
  }
 },
 "nbformat": 4,
 "nbformat_minor": 2
}
